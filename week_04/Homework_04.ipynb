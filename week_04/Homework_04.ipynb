{
  "nbformat": 4,
  "nbformat_minor": 0,
  "metadata": {
    "colab": {
      "name": "Homework_04.ipynb",
      "provenance": [],
      "authorship_tag": "ABX9TyMbOHV5h+BMDeav9yvQ/5YQ",
      "include_colab_link": true
    },
    "kernelspec": {
      "name": "python3",
      "display_name": "Python 3"
    },
    "language_info": {
      "name": "python"
    }
  },
  "cells": [
    {
      "cell_type": "markdown",
      "metadata": {
        "id": "view-in-github",
        "colab_type": "text"
      },
      "source": [
        "<a href=\"https://colab.research.google.com/github/sruthib22/DS601_Fall21/blob/main/week_04/Homework_04.ipynb\" target=\"_parent\"><img src=\"https://colab.research.google.com/assets/colab-badge.svg\" alt=\"Open In Colab\"/></a>"
      ]
    },
    {
      "cell_type": "code",
      "metadata": {
        "colab": {
          "base_uri": "https://localhost:8080/"
        },
        "id": "wwHBe5cRpyE_",
        "outputId": "b0f146f6-a0b6-46c9-a126-d77b93226267"
      },
      "source": [
        "import pandas as pd\n",
        "from datetime import datetime\n",
        "import matplotlib.pyplot as plt\n",
        "df = pd.read_csv(\"RollingSystemDemand_20210929_0417.csv\")\n",
        "\n",
        "print(df)"
      ],
      "execution_count": 18,
      "outputs": [
        {
          "output_type": "stream",
          "name": "stdout",
          "text": [
            "                HDR  ROLLING SYSTEM DEMAND\n",
            "VD   20210907000000                24683.0\n",
            "VD   20210907000500                24452.0\n",
            "VD   20210907001000                24270.0\n",
            "VD   20210907001500                24224.0\n",
            "VD   20210907002000                24112.0\n",
            "..              ...                    ...\n",
            "VD   20210913222000                24913.0\n",
            "VD   20210913222500                24512.0\n",
            "VD   20210913223000                24291.0\n",
            "VD   20210913223500                24254.0\n",
            "FTR            2000                    NaN\n",
            "\n",
            "[2001 rows x 2 columns]\n"
          ]
        }
      ]
    },
    {
      "cell_type": "code",
      "metadata": {
        "colab": {
          "base_uri": "https://localhost:8080/"
        },
        "id": "VBdmKPNrp-eb",
        "outputId": "abc9cf7a-759d-4b66-d525-e6ab16d29bd9"
      },
      "source": [
        "df.columns"
      ],
      "execution_count": 19,
      "outputs": [
        {
          "output_type": "execute_result",
          "data": {
            "text/plain": [
              "Index(['HDR', 'ROLLING SYSTEM DEMAND'], dtype='object')"
            ]
          },
          "metadata": {},
          "execution_count": 19
        }
      ]
    },
    {
      "cell_type": "code",
      "metadata": {
        "colab": {
          "base_uri": "https://localhost:8080/",
          "height": 423
        },
        "id": "t4z5z1kFqHuv",
        "outputId": "48cb0a29-30a1-4e71-e4d8-0e6703f2a65d"
      },
      "source": [
        "df.columns = ['time','demand']\n",
        "df"
      ],
      "execution_count": 20,
      "outputs": [
        {
          "output_type": "execute_result",
          "data": {
            "text/html": [
              "<div>\n",
              "<style scoped>\n",
              "    .dataframe tbody tr th:only-of-type {\n",
              "        vertical-align: middle;\n",
              "    }\n",
              "\n",
              "    .dataframe tbody tr th {\n",
              "        vertical-align: top;\n",
              "    }\n",
              "\n",
              "    .dataframe thead th {\n",
              "        text-align: right;\n",
              "    }\n",
              "</style>\n",
              "<table border=\"1\" class=\"dataframe\">\n",
              "  <thead>\n",
              "    <tr style=\"text-align: right;\">\n",
              "      <th></th>\n",
              "      <th>time</th>\n",
              "      <th>demand</th>\n",
              "    </tr>\n",
              "  </thead>\n",
              "  <tbody>\n",
              "    <tr>\n",
              "      <th>VD</th>\n",
              "      <td>20210907000000</td>\n",
              "      <td>24683.0</td>\n",
              "    </tr>\n",
              "    <tr>\n",
              "      <th>VD</th>\n",
              "      <td>20210907000500</td>\n",
              "      <td>24452.0</td>\n",
              "    </tr>\n",
              "    <tr>\n",
              "      <th>VD</th>\n",
              "      <td>20210907001000</td>\n",
              "      <td>24270.0</td>\n",
              "    </tr>\n",
              "    <tr>\n",
              "      <th>VD</th>\n",
              "      <td>20210907001500</td>\n",
              "      <td>24224.0</td>\n",
              "    </tr>\n",
              "    <tr>\n",
              "      <th>VD</th>\n",
              "      <td>20210907002000</td>\n",
              "      <td>24112.0</td>\n",
              "    </tr>\n",
              "    <tr>\n",
              "      <th>...</th>\n",
              "      <td>...</td>\n",
              "      <td>...</td>\n",
              "    </tr>\n",
              "    <tr>\n",
              "      <th>VD</th>\n",
              "      <td>20210913222000</td>\n",
              "      <td>24913.0</td>\n",
              "    </tr>\n",
              "    <tr>\n",
              "      <th>VD</th>\n",
              "      <td>20210913222500</td>\n",
              "      <td>24512.0</td>\n",
              "    </tr>\n",
              "    <tr>\n",
              "      <th>VD</th>\n",
              "      <td>20210913223000</td>\n",
              "      <td>24291.0</td>\n",
              "    </tr>\n",
              "    <tr>\n",
              "      <th>VD</th>\n",
              "      <td>20210913223500</td>\n",
              "      <td>24254.0</td>\n",
              "    </tr>\n",
              "    <tr>\n",
              "      <th>FTR</th>\n",
              "      <td>2000</td>\n",
              "      <td>NaN</td>\n",
              "    </tr>\n",
              "  </tbody>\n",
              "</table>\n",
              "<p>2001 rows × 2 columns</p>\n",
              "</div>"
            ],
            "text/plain": [
              "               time   demand\n",
              "VD   20210907000000  24683.0\n",
              "VD   20210907000500  24452.0\n",
              "VD   20210907001000  24270.0\n",
              "VD   20210907001500  24224.0\n",
              "VD   20210907002000  24112.0\n",
              "..              ...      ...\n",
              "VD   20210913222000  24913.0\n",
              "VD   20210913222500  24512.0\n",
              "VD   20210913223000  24291.0\n",
              "VD   20210913223500  24254.0\n",
              "FTR            2000      NaN\n",
              "\n",
              "[2001 rows x 2 columns]"
            ]
          },
          "metadata": {},
          "execution_count": 20
        }
      ]
    },
    {
      "cell_type": "code",
      "metadata": {
        "id": "u_DvGxPaqKlm"
      },
      "source": [
        "df['time'] = df['time'].astype(str)"
      ],
      "execution_count": 5,
      "outputs": []
    },
    {
      "cell_type": "code",
      "metadata": {
        "colab": {
          "base_uri": "https://localhost:8080/"
        },
        "id": "vbfHIMI4qRbV",
        "outputId": "5b1411d1-9f46-4955-c516-2418572ba280"
      },
      "source": [
        "df.info()"
      ],
      "execution_count": 6,
      "outputs": [
        {
          "output_type": "stream",
          "name": "stdout",
          "text": [
            "<class 'pandas.core.frame.DataFrame'>\n",
            "Index: 2001 entries, VD to FTR\n",
            "Data columns (total 2 columns):\n",
            " #   Column  Non-Null Count  Dtype  \n",
            "---  ------  --------------  -----  \n",
            " 0   time    2001 non-null   object \n",
            " 1   demand  2000 non-null   float64\n",
            "dtypes: float64(1), object(1)\n",
            "memory usage: 46.9+ KB\n"
          ]
        }
      ]
    },
    {
      "cell_type": "code",
      "metadata": {
        "id": "UtIoouj-qTiq"
      },
      "source": [
        "demand_total = df['demand']"
      ],
      "execution_count": 7,
      "outputs": []
    },
    {
      "cell_type": "code",
      "metadata": {
        "colab": {
          "base_uri": "https://localhost:8080/"
        },
        "id": "Dxdf9GGfqWho",
        "outputId": "22d8bcaf-3cc8-47d3-dd83-ee21ed64b142"
      },
      "source": [
        "print(demand_total)"
      ],
      "execution_count": 8,
      "outputs": [
        {
          "output_type": "stream",
          "name": "stdout",
          "text": [
            "VD     24683.0\n",
            "VD     24452.0\n",
            "VD     24270.0\n",
            "VD     24224.0\n",
            "VD     24112.0\n",
            "        ...   \n",
            "VD     24913.0\n",
            "VD     24512.0\n",
            "VD     24291.0\n",
            "VD     24254.0\n",
            "FTR        NaN\n",
            "Name: demand, Length: 2001, dtype: float64\n"
          ]
        }
      ]
    },
    {
      "cell_type": "code",
      "metadata": {
        "id": "mpOum1YuqZqp"
      },
      "source": [
        "df['date_time'] = pd.to_datetime(df['time'])"
      ],
      "execution_count": 9,
      "outputs": []
    },
    {
      "cell_type": "code",
      "metadata": {
        "colab": {
          "base_uri": "https://localhost:8080/",
          "height": 802
        },
        "id": "8fVaOQmNqde7",
        "outputId": "c4749fc6-a1a6-4100-b90c-6ed64918a36e"
      },
      "source": [
        "df.head(24)"
      ],
      "execution_count": 10,
      "outputs": [
        {
          "output_type": "execute_result",
          "data": {
            "text/html": [
              "<div>\n",
              "<style scoped>\n",
              "    .dataframe tbody tr th:only-of-type {\n",
              "        vertical-align: middle;\n",
              "    }\n",
              "\n",
              "    .dataframe tbody tr th {\n",
              "        vertical-align: top;\n",
              "    }\n",
              "\n",
              "    .dataframe thead th {\n",
              "        text-align: right;\n",
              "    }\n",
              "</style>\n",
              "<table border=\"1\" class=\"dataframe\">\n",
              "  <thead>\n",
              "    <tr style=\"text-align: right;\">\n",
              "      <th></th>\n",
              "      <th>time</th>\n",
              "      <th>demand</th>\n",
              "      <th>date_time</th>\n",
              "    </tr>\n",
              "  </thead>\n",
              "  <tbody>\n",
              "    <tr>\n",
              "      <th>VD</th>\n",
              "      <td>20210907000000</td>\n",
              "      <td>24683.0</td>\n",
              "      <td>2021-09-07 00:00:00</td>\n",
              "    </tr>\n",
              "    <tr>\n",
              "      <th>VD</th>\n",
              "      <td>20210907000500</td>\n",
              "      <td>24452.0</td>\n",
              "      <td>2021-09-07 00:05:00</td>\n",
              "    </tr>\n",
              "    <tr>\n",
              "      <th>VD</th>\n",
              "      <td>20210907001000</td>\n",
              "      <td>24270.0</td>\n",
              "      <td>2021-09-07 00:10:00</td>\n",
              "    </tr>\n",
              "    <tr>\n",
              "      <th>VD</th>\n",
              "      <td>20210907001500</td>\n",
              "      <td>24224.0</td>\n",
              "      <td>2021-09-07 00:15:00</td>\n",
              "    </tr>\n",
              "    <tr>\n",
              "      <th>VD</th>\n",
              "      <td>20210907002000</td>\n",
              "      <td>24112.0</td>\n",
              "      <td>2021-09-07 00:20:00</td>\n",
              "    </tr>\n",
              "    <tr>\n",
              "      <th>VD</th>\n",
              "      <td>20210907002500</td>\n",
              "      <td>24051.0</td>\n",
              "      <td>2021-09-07 00:25:00</td>\n",
              "    </tr>\n",
              "    <tr>\n",
              "      <th>VD</th>\n",
              "      <td>20210907003000</td>\n",
              "      <td>24001.0</td>\n",
              "      <td>2021-09-07 00:30:00</td>\n",
              "    </tr>\n",
              "    <tr>\n",
              "      <th>VD</th>\n",
              "      <td>20210907003500</td>\n",
              "      <td>24074.0</td>\n",
              "      <td>2021-09-07 00:35:00</td>\n",
              "    </tr>\n",
              "    <tr>\n",
              "      <th>VD</th>\n",
              "      <td>20210907004000</td>\n",
              "      <td>24060.0</td>\n",
              "      <td>2021-09-07 00:40:00</td>\n",
              "    </tr>\n",
              "    <tr>\n",
              "      <th>VD</th>\n",
              "      <td>20210907004500</td>\n",
              "      <td>23995.0</td>\n",
              "      <td>2021-09-07 00:45:00</td>\n",
              "    </tr>\n",
              "    <tr>\n",
              "      <th>VD</th>\n",
              "      <td>20210907005000</td>\n",
              "      <td>23949.0</td>\n",
              "      <td>2021-09-07 00:50:00</td>\n",
              "    </tr>\n",
              "    <tr>\n",
              "      <th>VD</th>\n",
              "      <td>20210907005500</td>\n",
              "      <td>23920.0</td>\n",
              "      <td>2021-09-07 00:55:00</td>\n",
              "    </tr>\n",
              "    <tr>\n",
              "      <th>VD</th>\n",
              "      <td>20210907010000</td>\n",
              "      <td>23822.0</td>\n",
              "      <td>2021-09-07 01:00:00</td>\n",
              "    </tr>\n",
              "    <tr>\n",
              "      <th>VD</th>\n",
              "      <td>20210907010500</td>\n",
              "      <td>23552.0</td>\n",
              "      <td>2021-09-07 01:05:00</td>\n",
              "    </tr>\n",
              "    <tr>\n",
              "      <th>VD</th>\n",
              "      <td>20210907011000</td>\n",
              "      <td>23422.0</td>\n",
              "      <td>2021-09-07 01:10:00</td>\n",
              "    </tr>\n",
              "    <tr>\n",
              "      <th>VD</th>\n",
              "      <td>20210907011500</td>\n",
              "      <td>23325.0</td>\n",
              "      <td>2021-09-07 01:15:00</td>\n",
              "    </tr>\n",
              "    <tr>\n",
              "      <th>VD</th>\n",
              "      <td>20210907012000</td>\n",
              "      <td>23258.0</td>\n",
              "      <td>2021-09-07 01:20:00</td>\n",
              "    </tr>\n",
              "    <tr>\n",
              "      <th>VD</th>\n",
              "      <td>20210907012500</td>\n",
              "      <td>23193.0</td>\n",
              "      <td>2021-09-07 01:25:00</td>\n",
              "    </tr>\n",
              "    <tr>\n",
              "      <th>VD</th>\n",
              "      <td>20210907013000</td>\n",
              "      <td>23180.0</td>\n",
              "      <td>2021-09-07 01:30:00</td>\n",
              "    </tr>\n",
              "    <tr>\n",
              "      <th>VD</th>\n",
              "      <td>20210907013500</td>\n",
              "      <td>23317.0</td>\n",
              "      <td>2021-09-07 01:35:00</td>\n",
              "    </tr>\n",
              "    <tr>\n",
              "      <th>VD</th>\n",
              "      <td>20210907014000</td>\n",
              "      <td>23344.0</td>\n",
              "      <td>2021-09-07 01:40:00</td>\n",
              "    </tr>\n",
              "    <tr>\n",
              "      <th>VD</th>\n",
              "      <td>20210907014500</td>\n",
              "      <td>23374.0</td>\n",
              "      <td>2021-09-07 01:45:00</td>\n",
              "    </tr>\n",
              "    <tr>\n",
              "      <th>VD</th>\n",
              "      <td>20210907015000</td>\n",
              "      <td>23368.0</td>\n",
              "      <td>2021-09-07 01:50:00</td>\n",
              "    </tr>\n",
              "    <tr>\n",
              "      <th>VD</th>\n",
              "      <td>20210907015500</td>\n",
              "      <td>23361.0</td>\n",
              "      <td>2021-09-07 01:55:00</td>\n",
              "    </tr>\n",
              "  </tbody>\n",
              "</table>\n",
              "</div>"
            ],
            "text/plain": [
              "              time   demand           date_time\n",
              "VD  20210907000000  24683.0 2021-09-07 00:00:00\n",
              "VD  20210907000500  24452.0 2021-09-07 00:05:00\n",
              "VD  20210907001000  24270.0 2021-09-07 00:10:00\n",
              "VD  20210907001500  24224.0 2021-09-07 00:15:00\n",
              "VD  20210907002000  24112.0 2021-09-07 00:20:00\n",
              "VD  20210907002500  24051.0 2021-09-07 00:25:00\n",
              "VD  20210907003000  24001.0 2021-09-07 00:30:00\n",
              "VD  20210907003500  24074.0 2021-09-07 00:35:00\n",
              "VD  20210907004000  24060.0 2021-09-07 00:40:00\n",
              "VD  20210907004500  23995.0 2021-09-07 00:45:00\n",
              "VD  20210907005000  23949.0 2021-09-07 00:50:00\n",
              "VD  20210907005500  23920.0 2021-09-07 00:55:00\n",
              "VD  20210907010000  23822.0 2021-09-07 01:00:00\n",
              "VD  20210907010500  23552.0 2021-09-07 01:05:00\n",
              "VD  20210907011000  23422.0 2021-09-07 01:10:00\n",
              "VD  20210907011500  23325.0 2021-09-07 01:15:00\n",
              "VD  20210907012000  23258.0 2021-09-07 01:20:00\n",
              "VD  20210907012500  23193.0 2021-09-07 01:25:00\n",
              "VD  20210907013000  23180.0 2021-09-07 01:30:00\n",
              "VD  20210907013500  23317.0 2021-09-07 01:35:00\n",
              "VD  20210907014000  23344.0 2021-09-07 01:40:00\n",
              "VD  20210907014500  23374.0 2021-09-07 01:45:00\n",
              "VD  20210907015000  23368.0 2021-09-07 01:50:00\n",
              "VD  20210907015500  23361.0 2021-09-07 01:55:00"
            ]
          },
          "metadata": {},
          "execution_count": 10
        }
      ]
    },
    {
      "cell_type": "code",
      "metadata": {
        "id": "j2da-xGrqgPl"
      },
      "source": [
        "df['date_time']= pd.to_datetime(df.date_time, format ='%Y%m%d%H').dt.strftime('%m-%d :%H hr')"
      ],
      "execution_count": 11,
      "outputs": []
    },
    {
      "cell_type": "code",
      "metadata": {
        "colab": {
          "base_uri": "https://localhost:8080/"
        },
        "id": "3LwYgIWcqjfl",
        "outputId": "81ac8d58-2d4b-4c8e-940c-c6af76d6a61d"
      },
      "source": [
        "datetime_value = df['date_time']\n",
        "print(datetime_value)"
      ],
      "execution_count": 12,
      "outputs": [
        {
          "output_type": "stream",
          "name": "stdout",
          "text": [
            "VD     09-07 :00 hr\n",
            "VD     09-07 :00 hr\n",
            "VD     09-07 :00 hr\n",
            "VD     09-07 :00 hr\n",
            "VD     09-07 :00 hr\n",
            "           ...     \n",
            "VD     09-13 :22 hr\n",
            "VD     09-13 :22 hr\n",
            "VD     09-13 :22 hr\n",
            "VD     09-13 :22 hr\n",
            "FTR    01-01 :00 hr\n",
            "Name: date_time, Length: 2001, dtype: object\n"
          ]
        }
      ]
    },
    {
      "cell_type": "code",
      "metadata": {
        "colab": {
          "base_uri": "https://localhost:8080/",
          "height": 423
        },
        "id": "U72uK29jqmdz",
        "outputId": "4058b138-5559-47e7-d9e7-97a5c14d578a"
      },
      "source": [
        "df['hours']= pd.to_datetime(df.date_time, format ='%m-%d :%H hr').dt.strftime('%H')\n",
        "df"
      ],
      "execution_count": 13,
      "outputs": [
        {
          "output_type": "execute_result",
          "data": {
            "text/html": [
              "<div>\n",
              "<style scoped>\n",
              "    .dataframe tbody tr th:only-of-type {\n",
              "        vertical-align: middle;\n",
              "    }\n",
              "\n",
              "    .dataframe tbody tr th {\n",
              "        vertical-align: top;\n",
              "    }\n",
              "\n",
              "    .dataframe thead th {\n",
              "        text-align: right;\n",
              "    }\n",
              "</style>\n",
              "<table border=\"1\" class=\"dataframe\">\n",
              "  <thead>\n",
              "    <tr style=\"text-align: right;\">\n",
              "      <th></th>\n",
              "      <th>time</th>\n",
              "      <th>demand</th>\n",
              "      <th>date_time</th>\n",
              "      <th>hours</th>\n",
              "    </tr>\n",
              "  </thead>\n",
              "  <tbody>\n",
              "    <tr>\n",
              "      <th>VD</th>\n",
              "      <td>20210907000000</td>\n",
              "      <td>24683.0</td>\n",
              "      <td>09-07 :00 hr</td>\n",
              "      <td>00</td>\n",
              "    </tr>\n",
              "    <tr>\n",
              "      <th>VD</th>\n",
              "      <td>20210907000500</td>\n",
              "      <td>24452.0</td>\n",
              "      <td>09-07 :00 hr</td>\n",
              "      <td>00</td>\n",
              "    </tr>\n",
              "    <tr>\n",
              "      <th>VD</th>\n",
              "      <td>20210907001000</td>\n",
              "      <td>24270.0</td>\n",
              "      <td>09-07 :00 hr</td>\n",
              "      <td>00</td>\n",
              "    </tr>\n",
              "    <tr>\n",
              "      <th>VD</th>\n",
              "      <td>20210907001500</td>\n",
              "      <td>24224.0</td>\n",
              "      <td>09-07 :00 hr</td>\n",
              "      <td>00</td>\n",
              "    </tr>\n",
              "    <tr>\n",
              "      <th>VD</th>\n",
              "      <td>20210907002000</td>\n",
              "      <td>24112.0</td>\n",
              "      <td>09-07 :00 hr</td>\n",
              "      <td>00</td>\n",
              "    </tr>\n",
              "    <tr>\n",
              "      <th>...</th>\n",
              "      <td>...</td>\n",
              "      <td>...</td>\n",
              "      <td>...</td>\n",
              "      <td>...</td>\n",
              "    </tr>\n",
              "    <tr>\n",
              "      <th>VD</th>\n",
              "      <td>20210913222000</td>\n",
              "      <td>24913.0</td>\n",
              "      <td>09-13 :22 hr</td>\n",
              "      <td>22</td>\n",
              "    </tr>\n",
              "    <tr>\n",
              "      <th>VD</th>\n",
              "      <td>20210913222500</td>\n",
              "      <td>24512.0</td>\n",
              "      <td>09-13 :22 hr</td>\n",
              "      <td>22</td>\n",
              "    </tr>\n",
              "    <tr>\n",
              "      <th>VD</th>\n",
              "      <td>20210913223000</td>\n",
              "      <td>24291.0</td>\n",
              "      <td>09-13 :22 hr</td>\n",
              "      <td>22</td>\n",
              "    </tr>\n",
              "    <tr>\n",
              "      <th>VD</th>\n",
              "      <td>20210913223500</td>\n",
              "      <td>24254.0</td>\n",
              "      <td>09-13 :22 hr</td>\n",
              "      <td>22</td>\n",
              "    </tr>\n",
              "    <tr>\n",
              "      <th>FTR</th>\n",
              "      <td>2000</td>\n",
              "      <td>NaN</td>\n",
              "      <td>01-01 :00 hr</td>\n",
              "      <td>00</td>\n",
              "    </tr>\n",
              "  </tbody>\n",
              "</table>\n",
              "<p>2001 rows × 4 columns</p>\n",
              "</div>"
            ],
            "text/plain": [
              "               time   demand     date_time hours\n",
              "VD   20210907000000  24683.0  09-07 :00 hr    00\n",
              "VD   20210907000500  24452.0  09-07 :00 hr    00\n",
              "VD   20210907001000  24270.0  09-07 :00 hr    00\n",
              "VD   20210907001500  24224.0  09-07 :00 hr    00\n",
              "VD   20210907002000  24112.0  09-07 :00 hr    00\n",
              "..              ...      ...           ...   ...\n",
              "VD   20210913222000  24913.0  09-13 :22 hr    22\n",
              "VD   20210913222500  24512.0  09-13 :22 hr    22\n",
              "VD   20210913223000  24291.0  09-13 :22 hr    22\n",
              "VD   20210913223500  24254.0  09-13 :22 hr    22\n",
              "FTR            2000      NaN  01-01 :00 hr    00\n",
              "\n",
              "[2001 rows x 4 columns]"
            ]
          },
          "metadata": {},
          "execution_count": 13
        }
      ]
    },
    {
      "cell_type": "code",
      "metadata": {
        "id": "9XesB3iPq1tJ"
      },
      "source": [
        "demandValue = df['demand']"
      ],
      "execution_count": 14,
      "outputs": []
    },
    {
      "cell_type": "code",
      "metadata": {
        "colab": {
          "base_uri": "https://localhost:8080/"
        },
        "id": "nIrmqNDxqox3",
        "outputId": "7bc36a67-0c24-47dd-d283-10b9e82498c7"
      },
      "source": [
        "per_hour_demand = []\n",
        "count = 0\n",
        "val = 1\n",
        "for i in df['demand']:\n",
        "  count = count + i\n",
        "  if val<12:\n",
        "    val = val + 1\n",
        "  else:\n",
        "    per_hour_demand.append(count)\n",
        "    val = 1\n",
        "    count = 0\n",
        "\n",
        "print(per_hour_demand)"
      ],
      "execution_count": 22,
      "outputs": [
        {
          "output_type": "stream",
          "name": "stdout",
          "text": [
            "[289791.0, 280516.0, 277825.0, 274702.0, 285821.0, 318960.0, 358431.0, 373296.0, 372037.0, 362023.0, 358491.0, 362873.0, 359275.0, 357319.0, 359489.0, 378710.0, 398593.0, 404446.0, 398529.0, 394454.0, 369608.0, 339235.0, 309454.0, 288665.0, 277201.0, 275600.0, 272105.0, 273195.0, 272993.0, 305391.0, 348864.0, 365920.0, 361634.0, 357053.0, 353521.0, 352741.0, 349193.0, 349735.0, 354011.0, 375232.0, 396326.0, 402828.0, 403637.0, 400021.0, 374953.0, 355315.0, 330293.0, 306221.0, 290858.0, 286402.0, 283186.0, 283410.0, 293285.0, 326940.0, 360291.0, 377059.0, 381687.0, 377106.0, 374904.0, 375283.0, 370807.0, 365241.0, 364391.0, 386865.0, 402620.0, 405807.0, 403326.0, 395283.0, 374328.0, 352543.0, 327308.0, 304539.0, 289802.0, 283238.0, 278235.0, 279605.0, 285929.0, 324573.0, 358057.0, 374744.0, 379886.0, 375526.0, 377173.0, 376707.0, 371103.0, 363975.0, 361347.0, 371491.0, 385964.0, 390062.0, 388970.0, 378719.0, 357470.0, 331197.0, 301189.0, 275764.0, 270797.0, 266223.0, 258651.0, 256048.0, 258977.0, 268224.0, 287115.0, 314220.0, 321022.0, 318801.0, 314204.0, 309900.0, 302745.0, 289991.0, 290034.0, 305165.0, 330400.0, 347754.0, 352181.0, 350437.0, 335128.0, 308321.0, 280828.0, 260117.0, 250485.0, 247555.0, 248026.0, 247111.0, 244516.0, 251182.0, 269517.0, 286041.0, 300273.0, 306378.0, 309806.0, 317536.0, 323855.0, 326088.0, 331101.0, 345425.0, 367726.0, 375778.0, 376961.0, 368647.0, 341791.0, 310063.0, 278638.0, 265609.0, 264111.0, 257826.0, 253294.0, 251050.0, 254141.0, 296257.0, 352567.0, 377714.0, 382358.0, 379233.0, 372872.0, 368619.0, 363373.0, 360636.0, 364320.0, 381927.0, 405208.0, 408541.0, 406159.0, 396950.0, 362597.0, 325732.0]\n"
          ]
        }
      ]
    },
    {
      "cell_type": "code",
      "metadata": {
        "colab": {
          "base_uri": "https://localhost:8080/"
        },
        "id": "6qGZh_K-q5qE",
        "outputId": "da371788-f66e-40ae-ef71-877c1282f5ba"
      },
      "source": [
        "list1 = [x for x in range(1,25)]\n",
        "print(list1)"
      ],
      "execution_count": 23,
      "outputs": [
        {
          "output_type": "stream",
          "name": "stdout",
          "text": [
            "[1, 2, 3, 4, 5, 6, 7, 8, 9, 10, 11, 12, 13, 14, 15, 16, 17, 18, 19, 20, 21, 22, 23, 24]\n"
          ]
        }
      ]
    },
    {
      "cell_type": "code",
      "metadata": {
        "colab": {
          "base_uri": "https://localhost:8080/"
        },
        "id": "V52_op2Bq81R",
        "outputId": "d6642d0e-cea7-4b05-8b53-2fe193bbfdc1"
      },
      "source": [
        "per_day = per_hour_demand[:24]\n",
        "print(per_day)"
      ],
      "execution_count": 27,
      "outputs": [
        {
          "output_type": "stream",
          "name": "stdout",
          "text": [
            "[289791.0, 280516.0, 277825.0, 274702.0, 285821.0, 318960.0, 358431.0, 373296.0, 372037.0, 362023.0, 358491.0, 362873.0, 359275.0, 357319.0, 359489.0, 378710.0, 398593.0, 404446.0, 398529.0, 394454.0, 369608.0, 339235.0, 309454.0, 288665.0]\n"
          ]
        }
      ]
    },
    {
      "cell_type": "code",
      "metadata": {
        "id": "8NSoArwcsyVK"
      },
      "source": [
        "df_graph = pd.DataFrame(per_day)"
      ],
      "execution_count": 28,
      "outputs": []
    },
    {
      "cell_type": "code",
      "metadata": {
        "colab": {
          "base_uri": "https://localhost:8080/",
          "height": 802
        },
        "id": "-ExwvvcOs-m-",
        "outputId": "ffdf5a7e-b8a9-4abb-99e7-2a7e9d8d6a01"
      },
      "source": [
        "df_graph"
      ],
      "execution_count": 29,
      "outputs": [
        {
          "output_type": "execute_result",
          "data": {
            "text/html": [
              "<div>\n",
              "<style scoped>\n",
              "    .dataframe tbody tr th:only-of-type {\n",
              "        vertical-align: middle;\n",
              "    }\n",
              "\n",
              "    .dataframe tbody tr th {\n",
              "        vertical-align: top;\n",
              "    }\n",
              "\n",
              "    .dataframe thead th {\n",
              "        text-align: right;\n",
              "    }\n",
              "</style>\n",
              "<table border=\"1\" class=\"dataframe\">\n",
              "  <thead>\n",
              "    <tr style=\"text-align: right;\">\n",
              "      <th></th>\n",
              "      <th>0</th>\n",
              "    </tr>\n",
              "  </thead>\n",
              "  <tbody>\n",
              "    <tr>\n",
              "      <th>0</th>\n",
              "      <td>289791.0</td>\n",
              "    </tr>\n",
              "    <tr>\n",
              "      <th>1</th>\n",
              "      <td>280516.0</td>\n",
              "    </tr>\n",
              "    <tr>\n",
              "      <th>2</th>\n",
              "      <td>277825.0</td>\n",
              "    </tr>\n",
              "    <tr>\n",
              "      <th>3</th>\n",
              "      <td>274702.0</td>\n",
              "    </tr>\n",
              "    <tr>\n",
              "      <th>4</th>\n",
              "      <td>285821.0</td>\n",
              "    </tr>\n",
              "    <tr>\n",
              "      <th>5</th>\n",
              "      <td>318960.0</td>\n",
              "    </tr>\n",
              "    <tr>\n",
              "      <th>6</th>\n",
              "      <td>358431.0</td>\n",
              "    </tr>\n",
              "    <tr>\n",
              "      <th>7</th>\n",
              "      <td>373296.0</td>\n",
              "    </tr>\n",
              "    <tr>\n",
              "      <th>8</th>\n",
              "      <td>372037.0</td>\n",
              "    </tr>\n",
              "    <tr>\n",
              "      <th>9</th>\n",
              "      <td>362023.0</td>\n",
              "    </tr>\n",
              "    <tr>\n",
              "      <th>10</th>\n",
              "      <td>358491.0</td>\n",
              "    </tr>\n",
              "    <tr>\n",
              "      <th>11</th>\n",
              "      <td>362873.0</td>\n",
              "    </tr>\n",
              "    <tr>\n",
              "      <th>12</th>\n",
              "      <td>359275.0</td>\n",
              "    </tr>\n",
              "    <tr>\n",
              "      <th>13</th>\n",
              "      <td>357319.0</td>\n",
              "    </tr>\n",
              "    <tr>\n",
              "      <th>14</th>\n",
              "      <td>359489.0</td>\n",
              "    </tr>\n",
              "    <tr>\n",
              "      <th>15</th>\n",
              "      <td>378710.0</td>\n",
              "    </tr>\n",
              "    <tr>\n",
              "      <th>16</th>\n",
              "      <td>398593.0</td>\n",
              "    </tr>\n",
              "    <tr>\n",
              "      <th>17</th>\n",
              "      <td>404446.0</td>\n",
              "    </tr>\n",
              "    <tr>\n",
              "      <th>18</th>\n",
              "      <td>398529.0</td>\n",
              "    </tr>\n",
              "    <tr>\n",
              "      <th>19</th>\n",
              "      <td>394454.0</td>\n",
              "    </tr>\n",
              "    <tr>\n",
              "      <th>20</th>\n",
              "      <td>369608.0</td>\n",
              "    </tr>\n",
              "    <tr>\n",
              "      <th>21</th>\n",
              "      <td>339235.0</td>\n",
              "    </tr>\n",
              "    <tr>\n",
              "      <th>22</th>\n",
              "      <td>309454.0</td>\n",
              "    </tr>\n",
              "    <tr>\n",
              "      <th>23</th>\n",
              "      <td>288665.0</td>\n",
              "    </tr>\n",
              "  </tbody>\n",
              "</table>\n",
              "</div>"
            ],
            "text/plain": [
              "           0\n",
              "0   289791.0\n",
              "1   280516.0\n",
              "2   277825.0\n",
              "3   274702.0\n",
              "4   285821.0\n",
              "5   318960.0\n",
              "6   358431.0\n",
              "7   373296.0\n",
              "8   372037.0\n",
              "9   362023.0\n",
              "10  358491.0\n",
              "11  362873.0\n",
              "12  359275.0\n",
              "13  357319.0\n",
              "14  359489.0\n",
              "15  378710.0\n",
              "16  398593.0\n",
              "17  404446.0\n",
              "18  398529.0\n",
              "19  394454.0\n",
              "20  369608.0\n",
              "21  339235.0\n",
              "22  309454.0\n",
              "23  288665.0"
            ]
          },
          "metadata": {},
          "execution_count": 29
        }
      ]
    },
    {
      "cell_type": "code",
      "metadata": {
        "id": "OM9kzWyhtA57"
      },
      "source": [
        "df_graph.columns=['24_hrs']"
      ],
      "execution_count": 30,
      "outputs": []
    },
    {
      "cell_type": "code",
      "metadata": {
        "colab": {
          "base_uri": "https://localhost:8080/",
          "height": 298
        },
        "id": "_wPB-ikotEWl",
        "outputId": "99f738c5-4024-477c-ea03-f846124009c2"
      },
      "source": [
        "import matplotlib.pyplot as plt\n",
        "\n",
        "df_graph.plot.bar(figsize = (7,4))\n",
        "plt.title('hourly demand of a day')\n",
        "plt.xlabel(' 24 hours')\n",
        "plt.ylabel('electricity demand')\n",
        "plt.show()"
      ],
      "execution_count": 36,
      "outputs": [
        {
          "output_type": "display_data",
          "data": {
            "image/png": "[encoded data removed]",
            "text/plain": [
              "<Figure size 504x288 with 1 Axes>"
            ]
          },
          "metadata": {
            "needs_background": "light"
          }
        }
      ]
    },
    {
      "cell_type": "code",
      "metadata": {
        "id": "tZQi1hB0tIM8"
      },
      "source": [
        "df_24_day = pd.DataFrame(per_hour_demand)"
      ],
      "execution_count": 32,
      "outputs": []
    },
    {
      "cell_type": "code",
      "metadata": {
        "colab": {
          "base_uri": "https://localhost:8080/",
          "height": 423
        },
        "id": "ZvMISrkUteG5",
        "outputId": "465060f6-985b-4547-dd4e-a494912c91b4"
      },
      "source": [
        "df_24_day"
      ],
      "execution_count": 33,
      "outputs": [
        {
          "output_type": "execute_result",
          "data": {
            "text/html": [
              "<div>\n",
              "<style scoped>\n",
              "    .dataframe tbody tr th:only-of-type {\n",
              "        vertical-align: middle;\n",
              "    }\n",
              "\n",
              "    .dataframe tbody tr th {\n",
              "        vertical-align: top;\n",
              "    }\n",
              "\n",
              "    .dataframe thead th {\n",
              "        text-align: right;\n",
              "    }\n",
              "</style>\n",
              "<table border=\"1\" class=\"dataframe\">\n",
              "  <thead>\n",
              "    <tr style=\"text-align: right;\">\n",
              "      <th></th>\n",
              "      <th>0</th>\n",
              "    </tr>\n",
              "  </thead>\n",
              "  <tbody>\n",
              "    <tr>\n",
              "      <th>0</th>\n",
              "      <td>289791.0</td>\n",
              "    </tr>\n",
              "    <tr>\n",
              "      <th>1</th>\n",
              "      <td>280516.0</td>\n",
              "    </tr>\n",
              "    <tr>\n",
              "      <th>2</th>\n",
              "      <td>277825.0</td>\n",
              "    </tr>\n",
              "    <tr>\n",
              "      <th>3</th>\n",
              "      <td>274702.0</td>\n",
              "    </tr>\n",
              "    <tr>\n",
              "      <th>4</th>\n",
              "      <td>285821.0</td>\n",
              "    </tr>\n",
              "    <tr>\n",
              "      <th>...</th>\n",
              "      <td>...</td>\n",
              "    </tr>\n",
              "    <tr>\n",
              "      <th>161</th>\n",
              "      <td>408541.0</td>\n",
              "    </tr>\n",
              "    <tr>\n",
              "      <th>162</th>\n",
              "      <td>406159.0</td>\n",
              "    </tr>\n",
              "    <tr>\n",
              "      <th>163</th>\n",
              "      <td>396950.0</td>\n",
              "    </tr>\n",
              "    <tr>\n",
              "      <th>164</th>\n",
              "      <td>362597.0</td>\n",
              "    </tr>\n",
              "    <tr>\n",
              "      <th>165</th>\n",
              "      <td>325732.0</td>\n",
              "    </tr>\n",
              "  </tbody>\n",
              "</table>\n",
              "<p>166 rows × 1 columns</p>\n",
              "</div>"
            ],
            "text/plain": [
              "            0\n",
              "0    289791.0\n",
              "1    280516.0\n",
              "2    277825.0\n",
              "3    274702.0\n",
              "4    285821.0\n",
              "..        ...\n",
              "161  408541.0\n",
              "162  406159.0\n",
              "163  396950.0\n",
              "164  362597.0\n",
              "165  325732.0\n",
              "\n",
              "[166 rows x 1 columns]"
            ]
          },
          "metadata": {},
          "execution_count": 33
        }
      ]
    },
    {
      "cell_type": "code",
      "metadata": {
        "id": "Phgho33_tgB8"
      },
      "source": [
        "df_24_day.columns = ['demand_for_10_days']"
      ],
      "execution_count": 34,
      "outputs": []
    },
    {
      "cell_type": "code",
      "metadata": {
        "colab": {
          "base_uri": "https://localhost:8080/",
          "height": 359
        },
        "id": "izcMAIqGtnah",
        "outputId": "2fb9f5fc-8208-4386-be39-86cc63f24da4"
      },
      "source": [
        "import matplotlib.pyplot as plt\n",
        "\n",
        "df_24_day.plot.bar(figsize = (10,5))\n",
        "plt.title('hourly demand for 10  days')\n",
        "plt.xlabel('24 hours')\n",
        "plt.ylabel('electricity demand')\n",
        "plt.show()"
      ],
      "execution_count": 37,
      "outputs": [
        {
          "output_type": "display_data",
          "data": {
            "image/png": "[encoded data removed]",
            "text/plain": [
              "<Figure size 720x360 with 1 Axes>"
            ]
          },
          "metadata": {
            "needs_background": "light"
          }
        }
      ]
    },
    {
      "cell_type": "code",
      "metadata": {
        "id": "UX8HTvIrtqQZ"
      },
      "source": [
        ""
      ],
      "execution_count": null,
      "outputs": []
    }
  ]
}