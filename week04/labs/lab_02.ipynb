{
  "nbformat": 4,
  "nbformat_minor": 0,
  "metadata": {
    "colab": {
      "name": "lab_02.ipynb",
      "provenance": [],
      "collapsed_sections": [],
      "authorship_tag": "ABX9TyNxBCpaICbuPKltwio0Zk5P",
      "include_colab_link": true
    },
    "kernelspec": {
      "name": "python3",
      "display_name": "Python 3"
    },
    "language_info": {
      "name": "python"
    }
  },
  "cells": [
    {
      "cell_type": "markdown",
      "metadata": {
        "id": "view-in-github",
        "colab_type": "text"
      },
      "source": [
        "<a href=\"https://colab.research.google.com/github/sruthib22/DS601_Fall21/blob/main/week04/labs/lab_02.ipynb\" target=\"_parent\"><img src=\"https://colab.research.google.com/assets/colab-badge.svg\" alt=\"Open In Colab\"/></a>"
      ]
    },
    {
      "cell_type": "code",
      "metadata": {
        "colab": {
          "base_uri": "https://localhost:8080/",
          "height": 35
        },
        "id": "2Q3GGRrltJKM",
        "outputId": "2e8cd4c6-4087-4815-8887-1cdfc123ca5f"
      },
      "source": [
        "import pandas as pd\n",
        "pd.__version__"
      ],
      "execution_count": 33,
      "outputs": [
        {
          "output_type": "execute_result",
          "data": {
            "application/vnd.google.colaboratory.intrinsic+json": {
              "type": "string"
            },
            "text/plain": [
              "'1.1.5'"
            ]
          },
          "metadata": {},
          "execution_count": 33
        }
      ]
    },
    {
      "cell_type": "code",
      "metadata": {
        "id": "kM74Rructy_A"
      },
      "source": [
        "data_url = \"https://raw.githubusercontent.com/msaricaumbc/DS601_Fall21/main/Week04/data/bowling_stats.csv\"\n",
        "\n",
        "df = pd.read_csv(data_url, header = None)"
      ],
      "execution_count": 34,
      "outputs": []
    },
    {
      "cell_type": "code",
      "metadata": {
        "colab": {
          "base_uri": "https://localhost:8080/",
          "height": 424
        },
        "id": "7ReKW8Zst2mw",
        "outputId": "23ddc91f-cf0f-4a83-fb33-ccd631df8050"
      },
      "source": [
        "df"
      ],
      "execution_count": 35,
      "outputs": [
        {
          "output_type": "execute_result",
          "data": {
            "text/html": [
              "<div>\n",
              "<style scoped>\n",
              "    .dataframe tbody tr th:only-of-type {\n",
              "        vertical-align: middle;\n",
              "    }\n",
              "\n",
              "    .dataframe tbody tr th {\n",
              "        vertical-align: top;\n",
              "    }\n",
              "\n",
              "    .dataframe thead th {\n",
              "        text-align: right;\n",
              "    }\n",
              "</style>\n",
              "<table border=\"1\" class=\"dataframe\">\n",
              "  <thead>\n",
              "    <tr style=\"text-align: right;\">\n",
              "      <th></th>\n",
              "      <th>0</th>\n",
              "      <th>1</th>\n",
              "      <th>2</th>\n",
              "      <th>3</th>\n",
              "      <th>4</th>\n",
              "    </tr>\n",
              "  </thead>\n",
              "  <tbody>\n",
              "    <tr>\n",
              "      <th>0</th>\n",
              "      <td>2018</td>\n",
              "      <td>Syracuse</td>\n",
              "      <td>N.Y.</td>\n",
              "      <td>7.0</td>\n",
              "      <td>556.0</td>\n",
              "    </tr>\n",
              "    <tr>\n",
              "      <th>1</th>\n",
              "      <td>2017</td>\n",
              "      <td>Las Vegas</td>\n",
              "      <td>Nev.</td>\n",
              "      <td>10.0</td>\n",
              "      <td>286.0</td>\n",
              "    </tr>\n",
              "    <tr>\n",
              "      <th>2</th>\n",
              "      <td>2016</td>\n",
              "      <td>Reno</td>\n",
              "      <td>Nev.</td>\n",
              "      <td>8.0</td>\n",
              "      <td>63.0</td>\n",
              "    </tr>\n",
              "    <tr>\n",
              "      <th>3</th>\n",
              "      <td>2015</td>\n",
              "      <td>El Paso</td>\n",
              "      <td>Texas</td>\n",
              "      <td>7.0</td>\n",
              "      <td>315.0</td>\n",
              "    </tr>\n",
              "    <tr>\n",
              "      <th>4</th>\n",
              "      <td>2014</td>\n",
              "      <td>Reno</td>\n",
              "      <td>Nev.</td>\n",
              "      <td>9.0</td>\n",
              "      <td>24.0</td>\n",
              "    </tr>\n",
              "    <tr>\n",
              "      <th>...</th>\n",
              "      <td>...</td>\n",
              "      <td>...</td>\n",
              "      <td>...</td>\n",
              "      <td>...</td>\n",
              "      <td>...</td>\n",
              "    </tr>\n",
              "    <tr>\n",
              "      <th>111</th>\n",
              "      <td>1905</td>\n",
              "      <td>Milwaukee</td>\n",
              "      <td>Wis.</td>\n",
              "      <td>217.0</td>\n",
              "      <td>NaN</td>\n",
              "    </tr>\n",
              "    <tr>\n",
              "      <th>112</th>\n",
              "      <td>1904</td>\n",
              "      <td>Cleveland</td>\n",
              "      <td>Ohio</td>\n",
              "      <td>112.0</td>\n",
              "      <td>NaN</td>\n",
              "    </tr>\n",
              "    <tr>\n",
              "      <th>113</th>\n",
              "      <td>1903</td>\n",
              "      <td>Indianapolis</td>\n",
              "      <td>Ind.</td>\n",
              "      <td>78.0</td>\n",
              "      <td>NaN</td>\n",
              "    </tr>\n",
              "    <tr>\n",
              "      <th>114</th>\n",
              "      <td>1902</td>\n",
              "      <td>Buffalo</td>\n",
              "      <td>N.Y.</td>\n",
              "      <td>61.0</td>\n",
              "      <td>NaN</td>\n",
              "    </tr>\n",
              "    <tr>\n",
              "      <th>115</th>\n",
              "      <td>1901</td>\n",
              "      <td>Chicago</td>\n",
              "      <td>Ill.</td>\n",
              "      <td>41.0</td>\n",
              "      <td>NaN</td>\n",
              "    </tr>\n",
              "  </tbody>\n",
              "</table>\n",
              "<p>116 rows × 5 columns</p>\n",
              "</div>"
            ],
            "text/plain": [
              "        0              1       2      3      4\n",
              "0    2018       Syracuse    N.Y.    7.0  556.0\n",
              "1    2017      Las Vegas    Nev.   10.0  286.0\n",
              "2    2016           Reno    Nev.    8.0   63.0\n",
              "3    2015        El Paso   Texas    7.0  315.0\n",
              "4    2014           Reno    Nev.    9.0   24.0\n",
              "..    ...            ...     ...    ...    ...\n",
              "111  1905      Milwaukee    Wis.  217.0    NaN\n",
              "112  1904      Cleveland    Ohio  112.0    NaN\n",
              "113  1903   Indianapolis    Ind.   78.0    NaN\n",
              "114  1902        Buffalo    N.Y.   61.0    NaN\n",
              "115  1901        Chicago    Ill.   41.0    NaN\n",
              "\n",
              "[116 rows x 5 columns]"
            ]
          },
          "metadata": {},
          "execution_count": 35
        }
      ]
    },
    {
      "cell_type": "code",
      "metadata": {
        "id": "zQuCllwDt5i4"
      },
      "source": [
        "df.columns = ['year', 'state','state_code','count1','count2']"
      ],
      "execution_count": 36,
      "outputs": []
    },
    {
      "cell_type": "code",
      "metadata": {
        "colab": {
          "base_uri": "https://localhost:8080/"
        },
        "id": "rpQjxWt-uYDA",
        "outputId": "76cf1317-93ca-4066-efa8-8ae4a750ae5c"
      },
      "source": [
        "print(df)"
      ],
      "execution_count": 37,
      "outputs": [
        {
          "output_type": "stream",
          "name": "stdout",
          "text": [
            "     year          state state_code  count1  count2\n",
            "0    2018       Syracuse       N.Y.     7.0   556.0\n",
            "1    2017      Las Vegas       Nev.    10.0   286.0\n",
            "2    2016           Reno       Nev.     8.0    63.0\n",
            "3    2015        El Paso      Texas     7.0   315.0\n",
            "4    2014           Reno       Nev.     9.0    24.0\n",
            "..    ...            ...        ...     ...     ...\n",
            "111  1905      Milwaukee       Wis.   217.0     NaN\n",
            "112  1904      Cleveland       Ohio   112.0     NaN\n",
            "113  1903   Indianapolis       Ind.    78.0     NaN\n",
            "114  1902        Buffalo       N.Y.    61.0     NaN\n",
            "115  1901        Chicago       Ill.    41.0     NaN\n",
            "\n",
            "[116 rows x 5 columns]\n"
          ]
        }
      ]
    },
    {
      "cell_type": "code",
      "metadata": {
        "id": "LLryNnZNuY6O"
      },
      "source": [
        "#count1 = list(df['count1'])\n",
        "#count2 = list(df['count2'])\n",
        "\n",
        "#count1"
      ],
      "execution_count": 38,
      "outputs": []
    },
    {
      "cell_type": "code",
      "metadata": {
        "colab": {
          "base_uri": "https://localhost:8080/",
          "height": 53
        },
        "id": "5JAo2-wjx9yB",
        "outputId": "abb7bb48-0476-4ee5-fe54-4b5a18c7328b"
      },
      "source": [
        "\"\"\"import numpy as np\n",
        "count3 = []\n",
        "for i in range(len(count1)):\n",
        "  if count2[i] is None:\n",
        "    count3.append(count1[i])\n",
        "  else:\n",
        "    count3.append((count1[i] * 1000 )+ count2[i])\n",
        "\n",
        "print(count3)\"\"\""
      ],
      "execution_count": 39,
      "outputs": [
        {
          "output_type": "execute_result",
          "data": {
            "application/vnd.google.colaboratory.intrinsic+json": {
              "type": "string"
            },
            "text/plain": [
              "'import numpy as np\\ncount3 = []\\nfor i in range(len(count1)):\\n  if count2[i] is None:\\n    count3.append(count1[i])\\n  else:\\n    count3.append((count1[i] * 1000 )+ count2[i])\\n\\nprint(count3)'"
            ]
          },
          "metadata": {},
          "execution_count": 39
        }
      ]
    },
    {
      "cell_type": "code",
      "metadata": {
        "colab": {
          "base_uri": "https://localhost:8080/",
          "height": 424
        },
        "id": "jlcy8bjvyhK0",
        "outputId": "9bef6dfb-8375-40ca-c6b3-4a4396bc293f"
      },
      "source": [
        "# Use Numpy's isnan() function to test if a number is a NaN (Not a Number)\n",
        "\n",
        "def add(count1, count2):\n",
        "\n",
        "    if np.isnan(count1):    \n",
        "        return np.nan\n",
        "    elif np.isnan(count2):\n",
        "        return count1\n",
        "    else:\n",
        "        return count1 * 1000 + count2\n",
        "\n",
        "\n",
        "# Combining a lambda function with a user-defined add() function. \n",
        "# This allows for operations on multiple columns\n",
        "\n",
        "df[\"final_count\"] = df[[\"count1\", \"count2\"]].apply(lambda x: add(x.count1, x.count2),axis=1) \n",
        "\n",
        "df"
      ],
      "execution_count": 40,
      "outputs": [
        {
          "output_type": "execute_result",
          "data": {
            "text/html": [
              "<div>\n",
              "<style scoped>\n",
              "    .dataframe tbody tr th:only-of-type {\n",
              "        vertical-align: middle;\n",
              "    }\n",
              "\n",
              "    .dataframe tbody tr th {\n",
              "        vertical-align: top;\n",
              "    }\n",
              "\n",
              "    .dataframe thead th {\n",
              "        text-align: right;\n",
              "    }\n",
              "</style>\n",
              "<table border=\"1\" class=\"dataframe\">\n",
              "  <thead>\n",
              "    <tr style=\"text-align: right;\">\n",
              "      <th></th>\n",
              "      <th>year</th>\n",
              "      <th>state</th>\n",
              "      <th>state_code</th>\n",
              "      <th>count1</th>\n",
              "      <th>count2</th>\n",
              "      <th>final_count</th>\n",
              "    </tr>\n",
              "  </thead>\n",
              "  <tbody>\n",
              "    <tr>\n",
              "      <th>0</th>\n",
              "      <td>2018</td>\n",
              "      <td>Syracuse</td>\n",
              "      <td>N.Y.</td>\n",
              "      <td>7.0</td>\n",
              "      <td>556.0</td>\n",
              "      <td>7556.0</td>\n",
              "    </tr>\n",
              "    <tr>\n",
              "      <th>1</th>\n",
              "      <td>2017</td>\n",
              "      <td>Las Vegas</td>\n",
              "      <td>Nev.</td>\n",
              "      <td>10.0</td>\n",
              "      <td>286.0</td>\n",
              "      <td>10286.0</td>\n",
              "    </tr>\n",
              "    <tr>\n",
              "      <th>2</th>\n",
              "      <td>2016</td>\n",
              "      <td>Reno</td>\n",
              "      <td>Nev.</td>\n",
              "      <td>8.0</td>\n",
              "      <td>63.0</td>\n",
              "      <td>8063.0</td>\n",
              "    </tr>\n",
              "    <tr>\n",
              "      <th>3</th>\n",
              "      <td>2015</td>\n",
              "      <td>El Paso</td>\n",
              "      <td>Texas</td>\n",
              "      <td>7.0</td>\n",
              "      <td>315.0</td>\n",
              "      <td>7315.0</td>\n",
              "    </tr>\n",
              "    <tr>\n",
              "      <th>4</th>\n",
              "      <td>2014</td>\n",
              "      <td>Reno</td>\n",
              "      <td>Nev.</td>\n",
              "      <td>9.0</td>\n",
              "      <td>24.0</td>\n",
              "      <td>9024.0</td>\n",
              "    </tr>\n",
              "    <tr>\n",
              "      <th>...</th>\n",
              "      <td>...</td>\n",
              "      <td>...</td>\n",
              "      <td>...</td>\n",
              "      <td>...</td>\n",
              "      <td>...</td>\n",
              "      <td>...</td>\n",
              "    </tr>\n",
              "    <tr>\n",
              "      <th>111</th>\n",
              "      <td>1905</td>\n",
              "      <td>Milwaukee</td>\n",
              "      <td>Wis.</td>\n",
              "      <td>217.0</td>\n",
              "      <td>NaN</td>\n",
              "      <td>217.0</td>\n",
              "    </tr>\n",
              "    <tr>\n",
              "      <th>112</th>\n",
              "      <td>1904</td>\n",
              "      <td>Cleveland</td>\n",
              "      <td>Ohio</td>\n",
              "      <td>112.0</td>\n",
              "      <td>NaN</td>\n",
              "      <td>112.0</td>\n",
              "    </tr>\n",
              "    <tr>\n",
              "      <th>113</th>\n",
              "      <td>1903</td>\n",
              "      <td>Indianapolis</td>\n",
              "      <td>Ind.</td>\n",
              "      <td>78.0</td>\n",
              "      <td>NaN</td>\n",
              "      <td>78.0</td>\n",
              "    </tr>\n",
              "    <tr>\n",
              "      <th>114</th>\n",
              "      <td>1902</td>\n",
              "      <td>Buffalo</td>\n",
              "      <td>N.Y.</td>\n",
              "      <td>61.0</td>\n",
              "      <td>NaN</td>\n",
              "      <td>61.0</td>\n",
              "    </tr>\n",
              "    <tr>\n",
              "      <th>115</th>\n",
              "      <td>1901</td>\n",
              "      <td>Chicago</td>\n",
              "      <td>Ill.</td>\n",
              "      <td>41.0</td>\n",
              "      <td>NaN</td>\n",
              "      <td>41.0</td>\n",
              "    </tr>\n",
              "  </tbody>\n",
              "</table>\n",
              "<p>116 rows × 6 columns</p>\n",
              "</div>"
            ],
            "text/plain": [
              "     year          state state_code  count1  count2  final_count\n",
              "0    2018       Syracuse       N.Y.     7.0   556.0       7556.0\n",
              "1    2017      Las Vegas       Nev.    10.0   286.0      10286.0\n",
              "2    2016           Reno       Nev.     8.0    63.0       8063.0\n",
              "3    2015        El Paso      Texas     7.0   315.0       7315.0\n",
              "4    2014           Reno       Nev.     9.0    24.0       9024.0\n",
              "..    ...            ...        ...     ...     ...          ...\n",
              "111  1905      Milwaukee       Wis.   217.0     NaN        217.0\n",
              "112  1904      Cleveland       Ohio   112.0     NaN        112.0\n",
              "113  1903   Indianapolis       Ind.    78.0     NaN         78.0\n",
              "114  1902        Buffalo       N.Y.    61.0     NaN         61.0\n",
              "115  1901        Chicago       Ill.    41.0     NaN         41.0\n",
              "\n",
              "[116 rows x 6 columns]"
            ]
          },
          "metadata": {},
          "execution_count": 40
        }
      ]
    },
    {
      "cell_type": "code",
      "metadata": {
        "colab": {
          "base_uri": "https://localhost:8080/",
          "height": 530
        },
        "id": "rEigOeqy_d4I",
        "outputId": "0af57268-bf90-48bf-e91d-39f830a9d586"
      },
      "source": [
        "df.plot(kind=\"line\", x=\"year\", y=\"final_count\", figsize=(14,8), title=\"number of matches played over Time\")"
      ],
      "execution_count": 41,
      "outputs": [
        {
          "output_type": "execute_result",
          "data": {
            "text/plain": [
              "<matplotlib.axes._subplots.AxesSubplot at 0x7f527e761a10>"
            ]
          },
          "metadata": {},
          "execution_count": 41
        },
        {
          "output_type": "display_data",
          "data": {
            "image/png": "[encoded data removed]",
            "text/plain": [
              "<Figure size 1008x576 with 1 Axes>"
            ]
          },
          "metadata": {
            "needs_background": "light"
          }
        }
      ]
    },
    {
      "cell_type": "code",
      "metadata": {
        "id": "DeG2hIgHD5ws"
      },
      "source": [
        "#since we got a reverse plot we need to change the order\n",
        "#print(df)"
      ],
      "execution_count": 42,
      "outputs": []
    },
    {
      "cell_type": "code",
      "metadata": {
        "id": "DPqsYIUmEBZq"
      },
      "source": [
        "#df.tail(50)\n",
        "# to check where the row has null values"
      ],
      "execution_count": 43,
      "outputs": []
    },
    {
      "cell_type": "code",
      "metadata": {
        "id": "pNE_eHT8BO4B"
      },
      "source": [
        "# drop the row with null values\n",
        "df= df.drop(labels=[73], axis=0)"
      ],
      "execution_count": 44,
      "outputs": []
    },
    {
      "cell_type": "code",
      "metadata": {
        "id": "SbuSEHVfEOYv"
      },
      "source": [
        "#df.tail(50)"
      ],
      "execution_count": 45,
      "outputs": []
    },
    {
      "cell_type": "code",
      "metadata": {
        "id": "AcrfDCTYAnc1"
      },
      "source": [
        "df['year'] = df['year'].astype(int)"
      ],
      "execution_count": 46,
      "outputs": []
    },
    {
      "cell_type": "code",
      "metadata": {
        "id": "xFsDurqwAD49"
      },
      "source": [
        "#since the time is reversed we need to sort the values "
      ],
      "execution_count": 47,
      "outputs": []
    },
    {
      "cell_type": "code",
      "metadata": {
        "id": "-vof1UuPASoT"
      },
      "source": [
        "df = df.sort_values(['year'], ascending=True)"
      ],
      "execution_count": 48,
      "outputs": []
    },
    {
      "cell_type": "code",
      "metadata": {
        "colab": {
          "base_uri": "https://localhost:8080/",
          "height": 530
        },
        "id": "jiRlxVj2EjxK",
        "outputId": "04597002-2bb4-4013-9e22-803ddc41ed21"
      },
      "source": [
        "df.plot(kind=\"line\", x=\"year\", y=\"final_count\", figsize=(14,8), title=\"number of matches played over Time\")"
      ],
      "execution_count": 49,
      "outputs": [
        {
          "output_type": "execute_result",
          "data": {
            "text/plain": [
              "<matplotlib.axes._subplots.AxesSubplot at 0x7f527e6d6fd0>"
            ]
          },
          "metadata": {},
          "execution_count": 49
        },
        {
          "output_type": "display_data",
          "data": {
            "image/png": "[encoded data removed]",
            "text/plain": [
              "<Figure size 1008x576 with 1 Axes>"
            ]
          },
          "metadata": {
            "needs_background": "light"
          }
        }
      ]
    }
  ]
}