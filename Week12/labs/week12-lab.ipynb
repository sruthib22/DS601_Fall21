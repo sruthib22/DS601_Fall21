{
 "cells": [
  {
   "cell_type": "markdown",
   "id": "c0ebd9ff",
   "metadata": {},
   "source": [
    "# Week12 Lab\n",
    "\n",
    "Scrape the information from the following website: https://www.scrapethissite.com/pages/simple/ \n",
    "show the values in a dataframe"
   ]
  },
  {
   "cell_type": "code",
   "execution_count": 4,
   "id": "8f868978",
   "metadata": {},
   "outputs": [],
   "source": [
    "import pandas as pd\n",
    "from bs4 import BeautifulSoup\n",
    "import requests"
   ]
  },
  {
   "cell_type": "code",
   "execution_count": 5,
   "id": "cb5683b5",
   "metadata": {},
   "outputs": [
    {
     "data": {
      "text/plain": [
       "True"
      ]
     },
     "execution_count": 5,
     "metadata": {},
     "output_type": "execute_result"
    }
   ],
   "source": [
    "response = requests.get('https://raw.githubusercontent.com/msaricaumbc/DS601_Fall21/main/Week12/data/data.html')\n",
    "response.ok"
   ]
  },
  {
   "cell_type": "code",
   "execution_count": 6,
   "id": "2b33c38d",
   "metadata": {},
   "outputs": [
    {
     "data": {
      "text/plain": [
       "'<!doctype html>\\n<html lang=\"en\"> \\n <head> \\n  <meta charset=\"utf-8\"> \\n  <title>Countries of the World: A Simple Example | Scrape This Site | A public sandbox for learning web scraping</title> \\n  <link rel=\"icon\" type=\"image/png\" href=\"/static/images/scraper-icon.png\"> \\n  <meta name=\"viewport\" content=\"width=device-width, initial-scale=1.0\"> \\n  <meta name=\"description\" content=\"A single page that lists information about all the countries in the world. Good for those just get started with web scraping.\"> \\n  <link href=\"https://maxcdn.bootstrapcdn.com/bootstrap/3.3.5/css/bootstrap.min.css\" rel=\"stylesheet\" integrity=\"sha256-MfvZlkHCEqatNoGiOXveE8FIwMzZg4W85qfrfIFBfYc= sha512-dTfge/zgoMYpP7QbHy4gWMEGsbsdZeCXz7irItjcC3sPUFtf0kuFbDz/ixG7ArTxmDjLXDmezHubeNikyKGVyQ==\" crossorigin=\"anonymous\"> \\n  <link href=\"\\\\\\'https://fonts.googleapis.com/css?family=Lato:400,700\\\\\\'\" rel=\"\\\\\\'stylesheet\\\\\\'\" type=\"\\\\\\'text/css\\\\\\'\"> \\n  <link rel=\"stylesheet\" type=\"text/css\" href=\"/static/css/styles.css\"> \\n  <meta name=\"ro'"
      ]
     },
     "execution_count": 6,
     "metadata": {},
     "output_type": "execute_result"
    }
   ],
   "source": [
    "response.text[:1000]"
   ]
  },
  {
   "cell_type": "code",
   "execution_count": 7,
   "id": "624ec5e5",
   "metadata": {},
   "outputs": [],
   "source": [
    "html_doc = response.text"
   ]
  },
  {
   "cell_type": "code",
   "execution_count": 8,
   "id": "72bc1d16",
   "metadata": {},
   "outputs": [],
   "source": [
    "soup = BeautifulSoup(html_doc, 'html.parser')"
   ]
  },
  {
   "cell_type": "code",
   "execution_count": 9,
   "id": "45560abc",
   "metadata": {},
   "outputs": [],
   "source": [
    "t = soup.find_all('div', {\"class\":\"col-md-4 country\"})[0]"
   ]
  },
  {
   "cell_type": "code",
   "execution_count": 10,
   "id": "83e4fec1",
   "metadata": {},
   "outputs": [
    {
     "data": {
      "text/plain": [
       "<div class=\"col-md-4 country\">\n",
       "<h3 class=\"country-name\"> <i class=\"flag-icon flag-icon-ad\"></i> Andorra </h3>\n",
       "<div class=\"country-info\"> <strong>Capital:</strong> <span class=\"country-capital\">Andorra la Vella</span>\n",
       "<br/> <strong>Population:</strong> <span class=\"country-population\">84000</span>\n",
       "<br/> <strong>Area (km<sup>2</sup>):</strong> <span class=\"country-area\">468.0</span>\n",
       "<br/>\n",
       "</div>\n",
       "</div>"
      ]
     },
     "execution_count": 10,
     "metadata": {},
     "output_type": "execute_result"
    }
   ],
   "source": []
  },
  {
   "cell_type": "code",
   "execution_count": null,
   "id": "a29a853e",
   "metadata": {},
   "outputs": [],
   "source": []
  }
 ],
 "metadata": {
  "kernelspec": {
   "display_name": "Python 3",
   "language": "python",
   "name": "python3"
  },
  "language_info": {
   "codemirror_mode": {
    "name": "ipython",
    "version": 3
   },
   "file_extension": ".py",
   "mimetype": "text/x-python",
   "name": "python",
   "nbconvert_exporter": "python",
   "pygments_lexer": "ipython3",
   "version": "3.8.8"
  },
  "toc": {
   "base_numbering": 1,
   "nav_menu": {},
   "number_sections": true,
   "sideBar": true,
   "skip_h1_title": false,
   "title_cell": "Table of Contents",
   "title_sidebar": "Contents",
   "toc_cell": false,
   "toc_position": {},
   "toc_section_display": true,
   "toc_window_display": false
  }
 },
 "nbformat": 4,
 "nbformat_minor": 5
}
