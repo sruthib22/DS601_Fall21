{
 "cells": [
  {
   "cell_type": "markdown",
   "metadata": {
    "id": "s6fJozQExu3k"
   },
   "source": [
    "[The content of this notebook is taken from: Jake VanderPlas' Python Data Science Handbook](https://jakevdp.github.io/PythonDataScienceHandbook/index.html)"
   ]
  },
  {
   "cell_type": "markdown",
   "metadata": {
    "id": "BSGD66cr25RC"
   },
   "source": [
    "# Agenda\n",
    "- Encoding\n",
    "\n",
    "- Indexing and slicing\n",
    "\n",
    "- Combining Datasets: Concat and Merge\n",
    "\n",
    "- Groupby methods\n",
    "\n",
    "- Apply Method"
   ]
  },
  {
   "cell_type": "markdown",
   "metadata": {
    "id": "cfm-_IULVS7m"
   },
   "source": [
    "## Encoding\n",
    "\n",
    "- Computers store data as a sequences of ones and zeros.\n",
    "\n",
    "- Humans uses other symbols to communicate (letters, emojis, etc.)\n",
    "\n",
    "- Then natural question arises: How to encode \"ç\" character in Turkish into computer language."
   ]
  },
  {
   "cell_type": "markdown",
   "metadata": {
    "id": "KG3JhTX4Vcr5"
   },
   "source": [
    "__Solutions to encoding Problem__\n",
    "\n",
    "- ASCII (American Standard Code for Information Change)\n",
    "\n",
    "    - Uses 8 bits.\n",
    "    - Has only 128 characters: 95 english letters and 33 control codes.\n",
    "    - Limited!"
   ]
  },
  {
   "cell_type": "markdown",
   "metadata": {
    "id": "6ID9oz1hVhkY"
   },
   "source": [
    "- Unicode\n",
    "\n",
    "    - ASCII was not enough!\n",
    "    - Uses 16 bits\n",
    "    \n",
    "\n",
    "Unicode is an information technology (IT) standard for the consistent encoding, representation, and handling of text expressed in most of the world's writing systems. The standard is maintained by the Unicode Consortium, and as of March 2020, there is a repertoire of 143,859 characters, with Unicode 13.0 (these characters consist of 143,696 graphic characters and 163 format characters) covering 154 modern and historic scripts, as well as multiple symbol sets and emoji. \n",
    "\n",
    "\n",
    "__Also check Utf-8 and Utf-16__"
   ]
  },
  {
   "cell_type": "markdown",
   "metadata": {
    "id": "CESzofAZVs8H"
   },
   "source": [
    "## Encoding"
   ]
  },
  {
   "cell_type": "code",
   "execution_count": null,
   "metadata": {
    "id": "WyWlRT2RWBTR"
   },
   "outputs": [],
   "source": [
    "import pandas as pd\n",
    "file_link = 'https://raw.githubusercontent.com/msaricaumbc/DS601_Fall21/main/Week04/data/PoliceShootingsUS.csv'\n",
    "\n",
    "# police_shootings_df = pd.read_csv(file_link)"
   ]
  },
  {
   "cell_type": "code",
   "execution_count": null,
   "metadata": {},
   "outputs": [],
   "source": [
    "!curl {file_link}"
   ]
  },
  {
   "cell_type": "code",
   "execution_count": null,
   "metadata": {
    "colab": {
     "base_uri": "https://localhost:8080/",
     "height": 590
    },
    "executionInfo": {
     "elapsed": 433,
     "status": "ok",
     "timestamp": 1614722154465,
     "user": {
      "displayName": "Murat Guner",
      "photoUrl": "",
      "userId": "07219518426737849646"
     },
     "user_tz": 300
    },
    "id": "tk6-53WQ7MIP",
    "outputId": "a6ff1cc9-ce6d-4ca4-bc14-ee33fd43c6ee"
   },
   "outputs": [],
   "source": []
  },
  {
   "cell_type": "code",
   "execution_count": null,
   "metadata": {
    "id": "PbQsJVi_WRGY"
   },
   "outputs": [],
   "source": [
    "import chardet"
   ]
  },
  {
   "cell_type": "code",
   "execution_count": null,
   "metadata": {},
   "outputs": [],
   "source": [
    "import requests\n",
    "\n",
    "r = requests.get(file_link, allow_redirects=True)\n",
    "\n",
    "file_content = r.content\n",
    "\n",
    "chardet.detect(file_content)"
   ]
  },
  {
   "cell_type": "code",
   "execution_count": null,
   "metadata": {
    "colab": {
     "base_uri": "https://localhost:8080/"
    },
    "executionInfo": {
     "elapsed": 1103,
     "status": "ok",
     "timestamp": 1614722516844,
     "user": {
      "displayName": "Murat Guner",
      "photoUrl": "",
      "userId": "07219518426737849646"
     },
     "user_tz": 300
    },
    "id": "2YaBM2VeWUQ-",
    "outputId": "b11af274-6ba3-40d6-833e-efdea52b6b92"
   },
   "outputs": [],
   "source": [
    "# with open(file_link, \"rb\") as fraw:\n",
    "#     file_content = fraw.read(50000)\n",
    "\n",
    "# file_content\n",
    "\n",
    "# chardet.detect(file_content)"
   ]
  },
  {
   "cell_type": "code",
   "execution_count": null,
   "metadata": {},
   "outputs": [],
   "source": [
    "police_shootings_df = pd.read_csv(file_link, encoding='Windows-1252')\n",
    "police_shootings_df"
   ]
  },
  {
   "cell_type": "markdown",
   "metadata": {
    "id": "DUnrHwD7YENS"
   },
   "source": [
    "## Indexing and Selection"
   ]
  },
  {
   "cell_type": "markdown",
   "metadata": {
    "id": "d4rTkLz-YMHZ"
   },
   "source": [
    "- Explicit index vs Python-style index"
   ]
  },
  {
   "cell_type": "code",
   "execution_count": null,
   "metadata": {
    "colab": {
     "base_uri": "https://localhost:8080/"
    },
    "executionInfo": {
     "elapsed": 422,
     "status": "ok",
     "timestamp": 1614722891721,
     "user": {
      "displayName": "Murat Guner",
      "photoUrl": "",
      "userId": "07219518426737849646"
     },
     "user_tz": 300
    },
    "id": "F02fBxuJYbpD",
    "outputId": "c57afbe0-d960-4644-d854-a0651986da30"
   },
   "outputs": [],
   "source": [
    "import pandas as pd\n",
    "\n",
    "example = pd.Series(['a', 'b', 'c'], index = [1,3,5])\n",
    "\n",
    "example"
   ]
  },
  {
   "cell_type": "markdown",
   "metadata": {
    "id": "VAPP24o8YeFn"
   },
   "source": [
    "__Loc__\n",
    "\n",
    "- Explicit index\n",
    "\n"
   ]
  },
  {
   "cell_type": "code",
   "execution_count": null,
   "metadata": {
    "colab": {
     "base_uri": "https://localhost:8080/",
     "height": 35
    },
    "executionInfo": {
     "elapsed": 476,
     "status": "ok",
     "timestamp": 1614722898930,
     "user": {
      "displayName": "Murat Guner",
      "photoUrl": "",
      "userId": "07219518426737849646"
     },
     "user_tz": 300
    },
    "id": "Nm6wCNARYdqt",
    "outputId": "b00e00d0-7646-40cf-f800-a56bfb068c87"
   },
   "outputs": [],
   "source": [
    "example.loc[1]"
   ]
  },
  {
   "cell_type": "markdown",
   "metadata": {
    "id": "_PffaWa6Y2nX"
   },
   "source": [
    "__iloc__"
   ]
  },
  {
   "cell_type": "code",
   "execution_count": null,
   "metadata": {
    "colab": {
     "base_uri": "https://localhost:8080/",
     "height": 35
    },
    "executionInfo": {
     "elapsed": 417,
     "status": "ok",
     "timestamp": 1614722899837,
     "user": {
      "displayName": "Murat Guner",
      "photoUrl": "",
      "userId": "07219518426737849646"
     },
     "user_tz": 300
    },
    "id": "voZE7qhjY691",
    "outputId": "4c58ab4c-2122-4e99-8858-516bc1bc464a"
   },
   "outputs": [],
   "source": [
    "example.iloc[1]"
   ]
  },
  {
   "cell_type": "markdown",
   "metadata": {
    "id": "Fiahd9X5ZCIA"
   },
   "source": [
    "__When Slicing?__"
   ]
  },
  {
   "cell_type": "code",
   "execution_count": null,
   "metadata": {
    "colab": {
     "base_uri": "https://localhost:8080/"
    },
    "executionInfo": {
     "elapsed": 410,
     "status": "ok",
     "timestamp": 1614723007214,
     "user": {
      "displayName": "Murat Guner",
      "photoUrl": "",
      "userId": "07219518426737849646"
     },
     "user_tz": 300
    },
    "id": "6hX-ylQ7_ba3",
    "outputId": "814369c6-fc38-4ef8-c787-418cc4f50182"
   },
   "outputs": [],
   "source": [
    "example"
   ]
  },
  {
   "cell_type": "code",
   "execution_count": null,
   "metadata": {
    "colab": {
     "base_uri": "https://localhost:8080/"
    },
    "executionInfo": {
     "elapsed": 424,
     "status": "ok",
     "timestamp": 1614723016919,
     "user": {
      "displayName": "Murat Guner",
      "photoUrl": "",
      "userId": "07219518426737849646"
     },
     "user_tz": 300
    },
    "id": "x9dTmBkXZXEx",
    "outputId": "2c761560-ccc0-4545-b106-de7eca2d8499"
   },
   "outputs": [],
   "source": [
    "example[1:3]"
   ]
  },
  {
   "cell_type": "code",
   "execution_count": null,
   "metadata": {
    "colab": {
     "base_uri": "https://localhost:8080/"
    },
    "executionInfo": {
     "elapsed": 210,
     "status": "ok",
     "timestamp": 1614723024699,
     "user": {
      "displayName": "Murat Guner",
      "photoUrl": "",
      "userId": "07219518426737849646"
     },
     "user_tz": 300
    },
    "id": "jDy92yGSZGbD",
    "outputId": "eedbe1ef-b827-4d67-9c03-8a7a767e4b7e"
   },
   "outputs": [],
   "source": [
    "example.iloc[1:3]"
   ]
  },
  {
   "cell_type": "code",
   "execution_count": null,
   "metadata": {
    "colab": {
     "base_uri": "https://localhost:8080/"
    },
    "executionInfo": {
     "elapsed": 413,
     "status": "ok",
     "timestamp": 1614723030221,
     "user": {
      "displayName": "Murat Guner",
      "photoUrl": "",
      "userId": "07219518426737849646"
     },
     "user_tz": 300
    },
    "id": "XWIld1qhZUGb",
    "outputId": "9947e34d-151b-49db-c4fb-a14729130c92"
   },
   "outputs": [],
   "source": [
    "example.loc[1:3]"
   ]
  },
  {
   "cell_type": "markdown",
   "metadata": {
    "id": "suMUSFqLZuzt"
   },
   "source": [
    "__Data Selection__"
   ]
  },
  {
   "cell_type": "code",
   "execution_count": null,
   "metadata": {
    "colab": {
     "base_uri": "https://localhost:8080/",
     "height": 195
    },
    "executionInfo": {
     "elapsed": 419,
     "status": "ok",
     "timestamp": 1614723176991,
     "user": {
      "displayName": "Murat Guner",
      "photoUrl": "",
      "userId": "07219518426737849646"
     },
     "user_tz": 300
    },
    "id": "C9WaOE7EZzbk",
    "outputId": "57e7428e-2168-4ddd-c1dc-bb37dda5eeea"
   },
   "outputs": [],
   "source": [
    "area = pd.Series({'California': 423967, 'Texas': 695662,\n",
    "                  'New York': 141297, 'Florida': 170312,\n",
    "                  'Illinois': 149995})\n",
    "pop = pd.Series({'California': 38332521, 'Texas': 26448193,\n",
    "                 'New York': 19651127, 'Florida': 19552860,\n",
    "                 'Illinois': 12882135})\n",
    "data = pd.DataFrame({'area':area, 'pop':pop})\n",
    "data"
   ]
  },
  {
   "cell_type": "markdown",
   "metadata": {
    "id": "BWHUUgSpaDcE"
   },
   "source": [
    "__Dictionary Style__"
   ]
  },
  {
   "cell_type": "code",
   "execution_count": null,
   "metadata": {
    "colab": {
     "base_uri": "https://localhost:8080/"
    },
    "executionInfo": {
     "elapsed": 479,
     "status": "ok",
     "timestamp": 1614723206644,
     "user": {
      "displayName": "Murat Guner",
      "photoUrl": "",
      "userId": "07219518426737849646"
     },
     "user_tz": 300
    },
    "id": "ks4gwLm4Z3U7",
    "outputId": "b84d64af-ca9e-42a5-f823-da8885e7e4c9"
   },
   "outputs": [],
   "source": [
    "data['area']"
   ]
  },
  {
   "cell_type": "markdown",
   "metadata": {
    "id": "DguNbee3aGoE"
   },
   "source": [
    "__Attribute Style__"
   ]
  },
  {
   "cell_type": "code",
   "execution_count": null,
   "metadata": {
    "colab": {
     "base_uri": "https://localhost:8080/"
    },
    "executionInfo": {
     "elapsed": 461,
     "status": "ok",
     "timestamp": 1614723265640,
     "user": {
      "displayName": "Murat Guner",
      "photoUrl": "",
      "userId": "07219518426737849646"
     },
     "user_tz": 300
    },
    "id": "00MiYh5haJMH",
    "outputId": "68998c13-49f8-47ce-c3ee-389276c36dcc"
   },
   "outputs": [],
   "source": [
    "data.area"
   ]
  },
  {
   "cell_type": "markdown",
   "metadata": {
    "id": "9j-UjRD0aLi4"
   },
   "source": [
    "Note that this style is a little bit more error prone!"
   ]
  },
  {
   "cell_type": "markdown",
   "metadata": {
    "id": "RWpaQgMQaU-y"
   },
   "source": [
    "__Selecting from rows and columns__"
   ]
  },
  {
   "cell_type": "markdown",
   "metadata": {
    "id": "HNngGrLPaz0Q"
   },
   "source": [
    "With Python Style - Implicit Index"
   ]
  },
  {
   "cell_type": "code",
   "execution_count": null,
   "metadata": {
    "colab": {
     "base_uri": "https://localhost:8080/",
     "height": 136
    },
    "executionInfo": {
     "elapsed": 419,
     "status": "ok",
     "timestamp": 1614723311634,
     "user": {
      "displayName": "Murat Guner",
      "photoUrl": "",
      "userId": "07219518426737849646"
     },
     "user_tz": 300
    },
    "id": "O5vvgm52ajqk",
    "outputId": "c2061e19-3f28-4aee-a4a6-3bed77b6adb2"
   },
   "outputs": [],
   "source": [
    "data.iloc[:3, :2]"
   ]
  },
  {
   "cell_type": "markdown",
   "metadata": {
    "id": "_4IZbtZpa-SR"
   },
   "source": [
    "With Explicit Index"
   ]
  },
  {
   "cell_type": "code",
   "execution_count": null,
   "metadata": {
    "colab": {
     "base_uri": "https://localhost:8080/",
     "height": 106
    },
    "executionInfo": {
     "elapsed": 453,
     "status": "ok",
     "timestamp": 1614713537623,
     "user": {
      "displayName": "Murat Guner",
      "photoUrl": "",
      "userId": "07219518426737849646"
     },
     "user_tz": 300
    },
    "id": "QAGcppLPbFvD",
    "outputId": "c9d63f95-80c4-4764-efa1-0c9c25927006"
   },
   "outputs": [],
   "source": [
    "data.loc[\"California\": \"Texas\",  :'pop']"
   ]
  },
  {
   "cell_type": "markdown",
   "metadata": {
    "id": "k8NaI-qJb3AJ"
   },
   "source": [
    "## Combining Datasets"
   ]
  },
  {
   "cell_type": "markdown",
   "metadata": {
    "id": "6K1RcwIWfOk5"
   },
   "source": [
    "__Concats__"
   ]
  },
  {
   "cell_type": "code",
   "execution_count": null,
   "metadata": {
    "id": "jOIuqrieeA_-"
   },
   "outputs": [],
   "source": [
    "def make_df(cols, ind):\n",
    "    \"\"\"Quickly make a DataFrame\"\"\"\n",
    "    data = {c: [str(c) + str(i) for i in ind]\n",
    "            for c in cols}\n",
    "    return pd.DataFrame(data, ind)\n",
    "\n",
    "\n",
    "class display(object):\n",
    "    \"\"\"Display HTML representation of multiple objects\"\"\"\n",
    "    template = \"\"\"<div style=\"float: left; padding: 10px;\">\n",
    "    <p style='font-family:\"Courier New\", Courier, monospace'>{0}</p>{1}\n",
    "    </div>\"\"\"\n",
    "    def __init__(self, *args):\n",
    "        self.args = args\n",
    "        \n",
    "    def _repr_html_(self):\n",
    "        return '\\n'.join(self.template.format(a, eval(a)._repr_html_())\n",
    "                         for a in self.args)\n",
    "    \n",
    "    def __repr__(self):\n",
    "        return '\\n\\n'.join(a + '\\n' + repr(eval(a))\n",
    "                           for a in self.args)"
   ]
  },
  {
   "cell_type": "code",
   "execution_count": null,
   "metadata": {
    "colab": {
     "base_uri": "https://localhost:8080/",
     "height": 195
    },
    "executionInfo": {
     "elapsed": 403,
     "status": "ok",
     "timestamp": 1614723429316,
     "user": {
      "displayName": "Murat Guner",
      "photoUrl": "",
      "userId": "07219518426737849646"
     },
     "user_tz": 300
    },
    "id": "AyEuI9-oA72m",
    "outputId": "808ef605-d567-438c-d56c-1310e953d32a"
   },
   "outputs": [],
   "source": [
    "make_df('ABC', [1,2,3,4,5])"
   ]
  },
  {
   "cell_type": "code",
   "execution_count": null,
   "metadata": {
    "colab": {
     "base_uri": "https://localhost:8080/"
    },
    "executionInfo": {
     "elapsed": 370,
     "status": "ok",
     "timestamp": 1614723541121,
     "user": {
      "displayName": "Murat Guner",
      "photoUrl": "",
      "userId": "07219518426737849646"
     },
     "user_tz": 300
    },
    "id": "TO5Vvn9EeEJg",
    "outputId": "7778730a-51c5-4117-c93a-a6ed55db36ab"
   },
   "outputs": [],
   "source": [
    "ser1 = pd.Series(['A', 'B', 'C'], index=[1, 2, 3])\n",
    "ser2 = pd.Series(['D', 'E', 'F'], index=[4, 5, 6])\n",
    "pd.concat([ser1, ser2])\n"
   ]
  },
  {
   "cell_type": "code",
   "execution_count": null,
   "metadata": {
    "colab": {
     "base_uri": "https://localhost:8080/",
     "height": 214
    },
    "executionInfo": {
     "elapsed": 407,
     "status": "ok",
     "timestamp": 1614723685756,
     "user": {
      "displayName": "Murat Guner",
      "photoUrl": "",
      "userId": "07219518426737849646"
     },
     "user_tz": 300
    },
    "id": "FAFoAH6xeasT",
    "outputId": "fc30a506-9958-4874-cf61-29637976f12e"
   },
   "outputs": [],
   "source": [
    "df1 = make_df('AB', [1, 2])\n",
    "df2 = make_df('AB', [1, 2])\n",
    "display('df1', 'df2', 'pd.concat([df1, df2])')"
   ]
  },
  {
   "cell_type": "code",
   "execution_count": null,
   "metadata": {
    "colab": {
     "base_uri": "https://localhost:8080/",
     "height": 166
    },
    "executionInfo": {
     "elapsed": 377,
     "status": "ok",
     "timestamp": 1614723774045,
     "user": {
      "displayName": "Murat Guner",
      "photoUrl": "",
      "userId": "07219518426737849646"
     },
     "user_tz": 300
    },
    "id": "3OKRFvJcCT_O",
    "outputId": "5e4470fe-2526-45d6-dca9-9bdb6fbbbaea"
   },
   "outputs": [],
   "source": [
    "experiment = pd.concat([df1, df2])\n",
    "\n",
    "experiment"
   ]
  },
  {
   "cell_type": "code",
   "execution_count": null,
   "metadata": {
    "colab": {
     "base_uri": "https://localhost:8080/"
    },
    "executionInfo": {
     "elapsed": 364,
     "status": "ok",
     "timestamp": 1614723805270,
     "user": {
      "displayName": "Murat Guner",
      "photoUrl": "",
      "userId": "07219518426737849646"
     },
     "user_tz": 300
    },
    "id": "5VqHv2_7CZRb",
    "outputId": "62bcdcaa-bf8a-4240-fa1a-ee550cd850a8"
   },
   "outputs": [],
   "source": [
    "experiment.iloc[1]"
   ]
  },
  {
   "cell_type": "code",
   "execution_count": null,
   "metadata": {
    "colab": {
     "base_uri": "https://localhost:8080/",
     "height": 155
    },
    "executionInfo": {
     "elapsed": 423,
     "status": "ok",
     "timestamp": 1614723908390,
     "user": {
      "displayName": "Murat Guner",
      "photoUrl": "",
      "userId": "07219518426737849646"
     },
     "user_tz": 300
    },
    "id": "zhbcHUaEe5G3",
    "outputId": "c7bf3c2b-c38e-468b-bc81-889441b9734d"
   },
   "outputs": [],
   "source": [
    "\n",
    "\n",
    "df3 = make_df('AB', [0, 1])\n",
    "df4 = make_df('AD', [0, 1])\n",
    "display('df3', 'df4', \"pd.concat([df3, df4], axis='columns')\")\n",
    "\n"
   ]
  },
  {
   "cell_type": "markdown",
   "metadata": {
    "id": "TKH1cAE7fNW3"
   },
   "source": [
    "__Concat:join parameter__"
   ]
  },
  {
   "cell_type": "code",
   "execution_count": null,
   "metadata": {
    "colab": {
     "base_uri": "https://localhost:8080/",
     "height": 214
    },
    "executionInfo": {
     "elapsed": 418,
     "status": "ok",
     "timestamp": 1614723950637,
     "user": {
      "displayName": "Murat Guner",
      "photoUrl": "",
      "userId": "07219518426737849646"
     },
     "user_tz": 300
    },
    "id": "h-WB3j96eJxF",
    "outputId": "0f96aa04-2e4e-412c-8768-d9d2d2c23d9f"
   },
   "outputs": [],
   "source": [
    "df5 = make_df('ABC', [1, 2])\n",
    "df6 = make_df('BCD', [3, 4])\n",
    "display('df5', 'df6', 'pd.concat([df5, df6])')\n"
   ]
  },
  {
   "cell_type": "code",
   "execution_count": null,
   "metadata": {
    "colab": {
     "base_uri": "https://localhost:8080/",
     "height": 214
    },
    "executionInfo": {
     "elapsed": 472,
     "status": "ok",
     "timestamp": 1614724008347,
     "user": {
      "displayName": "Murat Guner",
      "photoUrl": "",
      "userId": "07219518426737849646"
     },
     "user_tz": 300
    },
    "id": "hHxsF2WcfpfJ",
    "outputId": "f9669aaf-503d-47f0-dff6-d6a30cb2c2b6"
   },
   "outputs": [],
   "source": [
    "display('df5', 'df6',\n",
    "        \"pd.concat([df5, df6], join='inner')\")"
   ]
  },
  {
   "cell_type": "markdown",
   "metadata": {
    "id": "hEqlqOG8hgo2"
   },
   "source": [
    "__Merge and Join__"
   ]
  },
  {
   "cell_type": "markdown",
   "metadata": {
    "id": "8BCTIogIpBdn"
   },
   "source": [
    "one-to_one"
   ]
  },
  {
   "cell_type": "code",
   "execution_count": null,
   "metadata": {
    "colab": {
     "base_uri": "https://localhost:8080/",
     "height": 214
    },
    "executionInfo": {
     "elapsed": 715,
     "status": "ok",
     "timestamp": 1614725528420,
     "user": {
      "displayName": "Murat Guner",
      "photoUrl": "",
      "userId": "07219518426737849646"
     },
     "user_tz": 300
    },
    "id": "hDanZ0LXgsUQ",
    "outputId": "ac3502e8-6f0b-41f0-9211-9d6581cce89e"
   },
   "outputs": [],
   "source": [
    "df1 = pd.DataFrame({'employee': ['Bob', 'Jake', 'Lisa', 'Sue'],\n",
    "                    'group': ['Accounting', 'Engineering', 'Engineering', 'HR']})\n",
    "df2 = pd.DataFrame({'employee': ['Lisa', 'Bob', 'Jake', 'Sue'],\n",
    "                    'hire_date': [2004, 2008, 2012, 2014]})\n",
    "display('df1', 'df2')"
   ]
  },
  {
   "cell_type": "code",
   "execution_count": null,
   "metadata": {
    "colab": {
     "base_uri": "https://localhost:8080/",
     "height": 166
    },
    "executionInfo": {
     "elapsed": 515,
     "status": "ok",
     "timestamp": 1614725600537,
     "user": {
      "displayName": "Murat Guner",
      "photoUrl": "",
      "userId": "07219518426737849646"
     },
     "user_tz": 300
    },
    "id": "ay97fP_FgNRF",
    "outputId": "a3f1b20d-62aa-4b4a-bbee-ce9c511dd5d9"
   },
   "outputs": [],
   "source": [
    "df3 = pd.merge(df1, df2)\n",
    "df3\n"
   ]
  },
  {
   "cell_type": "markdown",
   "metadata": {
    "id": "wxhoZEhgpIpD"
   },
   "source": [
    "Many-to-one"
   ]
  },
  {
   "cell_type": "code",
   "execution_count": null,
   "metadata": {
    "colab": {
     "base_uri": "https://localhost:8080/",
     "height": 214
    },
    "executionInfo": {
     "elapsed": 549,
     "status": "ok",
     "timestamp": 1614725741697,
     "user": {
      "displayName": "Murat Guner",
      "photoUrl": "",
      "userId": "07219518426737849646"
     },
     "user_tz": 300
    },
    "id": "Rqt_a6akpwFv",
    "outputId": "ade8636e-2a07-45b6-df7d-faa97cfa8163"
   },
   "outputs": [],
   "source": [
    "df4 = pd.DataFrame({'group': ['Accounting', 'Engineering', 'HR'],\n",
    "                    'supervisor': ['Carly', 'Guido', 'Steve']})\n",
    "display('df3', 'df4', 'pd.merge(df3, df4)')"
   ]
  },
  {
   "cell_type": "code",
   "execution_count": null,
   "metadata": {},
   "outputs": [],
   "source": [
    "pd.merge(df3, df4)"
   ]
  },
  {
   "cell_type": "markdown",
   "metadata": {
    "id": "acA_PeUmqKyV"
   },
   "source": [
    "Many-to-Many"
   ]
  },
  {
   "cell_type": "code",
   "execution_count": null,
   "metadata": {
    "colab": {
     "base_uri": "https://localhost:8080/",
     "height": 333
    },
    "executionInfo": {
     "elapsed": 463,
     "status": "ok",
     "timestamp": 1614725841479,
     "user": {
      "displayName": "Murat Guner",
      "photoUrl": "",
      "userId": "07219518426737849646"
     },
     "user_tz": 300
    },
    "id": "azLnZCMiqKO1",
    "outputId": "aead201b-b046-4c69-c669-82f6ca2c315a"
   },
   "outputs": [],
   "source": [
    "df5 = pd.DataFrame({'group': ['Accounting', 'Accounting',\n",
    "                              'Engineering', 'Engineering', 'HR', 'HR'],\n",
    "                    'skills': ['math', 'spreadsheets', 'coding', 'linux',\n",
    "                               'spreadsheets', 'organization']})\n",
    "display('df1', 'df5', \"pd.merge(df1, df5)\")"
   ]
  },
  {
   "cell_type": "markdown",
   "metadata": {
    "id": "ax5I1Kavqlhh"
   },
   "source": [
    "Left_on - Right_on"
   ]
  },
  {
   "cell_type": "code",
   "execution_count": null,
   "metadata": {
    "colab": {
     "base_uri": "https://localhost:8080/",
     "height": 214
    },
    "executionInfo": {
     "elapsed": 504,
     "status": "ok",
     "timestamp": 1614726541366,
     "user": {
      "displayName": "Murat Guner",
      "photoUrl": "",
      "userId": "07219518426737849646"
     },
     "user_tz": 300
    },
    "id": "bS1KWLO2qsf0",
    "outputId": "ad55551d-8a70-43a6-a752-d49bc00fa352"
   },
   "outputs": [],
   "source": [
    "df3 = pd.DataFrame({'name': ['Bob', 'Jake', 'Lisa'],\n",
    "                    'salary': [70000, 80000, 120000,]})\n",
    "\n",
    "\n",
    "display('df1', 'df3', 'pd.merge(df1, df3, left_on=\"employee\", right_on=\"name\", how = \"outer\")' )"
   ]
  },
  {
   "cell_type": "code",
   "execution_count": null,
   "metadata": {},
   "outputs": [],
   "source": [
    "pd.merge(df1, df3, left_on=\"employee\", right_on=\"name\", how = \"outer\")"
   ]
  },
  {
   "cell_type": "markdown",
   "metadata": {
    "id": "gqOW67QKrzWt"
   },
   "source": [
    "Inner-Outer"
   ]
  },
  {
   "cell_type": "code",
   "execution_count": null,
   "metadata": {
    "colab": {
     "base_uri": "https://localhost:8080/",
     "height": 185
    },
    "executionInfo": {
     "elapsed": 367,
     "status": "ok",
     "timestamp": 1614726285238,
     "user": {
      "displayName": "Murat Guner",
      "photoUrl": "",
      "userId": "07219518426737849646"
     },
     "user_tz": 300
    },
    "id": "zYlJ5SBsr8pm",
    "outputId": "56714dc7-f02b-4de3-b840-f5c46298de6a"
   },
   "outputs": [],
   "source": [
    "\n",
    "df6 = pd.DataFrame({'name': ['Peter', 'Paul', 'Mary'],\n",
    "                    'food': ['fish', 'beans', 'bread']},\n",
    "                   columns=['name', 'food'])\n",
    "df7 = pd.DataFrame({'name': ['Mary', 'Joseph'],\n",
    "                    'drink': ['wine', 'beer']},\n",
    "                   columns=['name', 'drink'])\n",
    "\n",
    "display('df6', 'df7', 'pd.merge(df6, df7)')\n"
   ]
  },
  {
   "cell_type": "code",
   "execution_count": null,
   "metadata": {
    "colab": {
     "base_uri": "https://localhost:8080/",
     "height": 214
    },
    "executionInfo": {
     "elapsed": 439,
     "status": "ok",
     "timestamp": 1614726341021,
     "user": {
      "displayName": "Murat Guner",
      "photoUrl": "",
      "userId": "07219518426737849646"
     },
     "user_tz": 300
    },
    "id": "lw4ERYVjsH6R",
    "outputId": "96d49398-108c-4d28-e0bb-008a6eb61250"
   },
   "outputs": [],
   "source": [
    "display('df6', 'df7', \"pd.merge(df6, df7, how='outer')\")"
   ]
  },
  {
   "cell_type": "code",
   "execution_count": null,
   "metadata": {},
   "outputs": [],
   "source": [
    "pd.merge(df6, df7, how='outer')"
   ]
  },
  {
   "cell_type": "markdown",
   "metadata": {
    "id": "3kdXf6p9sLo8"
   },
   "source": [
    "Left-Right"
   ]
  },
  {
   "cell_type": "code",
   "execution_count": null,
   "metadata": {
    "colab": {
     "base_uri": "https://localhost:8080/",
     "height": 185
    },
    "executionInfo": {
     "elapsed": 435,
     "status": "ok",
     "timestamp": 1614726679488,
     "user": {
      "displayName": "Murat Guner",
      "photoUrl": "",
      "userId": "07219518426737849646"
     },
     "user_tz": 300
    },
    "id": "KMHZu8fcsN2Z",
    "outputId": "91fcdb9d-a706-415a-b4e6-bbabe1016455"
   },
   "outputs": [],
   "source": [
    "display('df6', 'df7', \"pd.merge(df6, df7, how='right')\")"
   ]
  },
  {
   "cell_type": "code",
   "execution_count": null,
   "metadata": {},
   "outputs": [],
   "source": [
    "pd.merge(df6, df7, how='right')"
   ]
  },
  {
   "cell_type": "markdown",
   "metadata": {
    "id": "NKhmpROBsV4p"
   },
   "source": [
    "Overlapping Columns"
   ]
  },
  {
   "cell_type": "code",
   "execution_count": null,
   "metadata": {
    "colab": {
     "base_uri": "https://localhost:8080/",
     "height": 214
    },
    "executionInfo": {
     "elapsed": 428,
     "status": "ok",
     "timestamp": 1614727223416,
     "user": {
      "displayName": "Murat Guner",
      "photoUrl": "",
      "userId": "07219518426737849646"
     },
     "user_tz": 300
    },
    "id": "m2_wHQGCsYN_",
    "outputId": "e938f4cb-abb4-4f46-bf93-da1e6645924e"
   },
   "outputs": [],
   "source": [
    "\n",
    "df8 = pd.DataFrame({'name': ['Bob', 'Jake', 'Lisa', 'Sue'],\n",
    "                    'rank': [1, 2, 3, 4]})\n",
    "df9 = pd.DataFrame({'name': ['Bob', 'Jake', 'Lisa', 'Sue'],\n",
    "                    'rank': [3, 1, 4, 2]})\n",
    "display('df8', 'df9', 'pd.merge(df8, df9, on = \"name\", suffixes = [\"Primary\", \"Secondary\"])')\n",
    "\n"
   ]
  },
  {
   "cell_type": "code",
   "execution_count": null,
   "metadata": {},
   "outputs": [],
   "source": [
    "pd.merge(df8, df9, on = \"name\", suffixes = [\"Primary\", \"Secondary\"])"
   ]
  },
  {
   "cell_type": "markdown",
   "metadata": {
    "id": "rjs8-lvns7lL"
   },
   "source": [
    "## Aggregation and Grouping"
   ]
  },
  {
   "cell_type": "markdown",
   "metadata": {
    "id": "2-GvYLOetnaq"
   },
   "source": [
    "Basic Aggregation"
   ]
  },
  {
   "cell_type": "code",
   "execution_count": null,
   "metadata": {
    "colab": {
     "base_uri": "https://localhost:8080/"
    },
    "executionInfo": {
     "elapsed": 1839,
     "status": "ok",
     "timestamp": 1616182509638,
     "user": {
      "displayName": "Murat Guner",
      "photoUrl": "",
      "userId": "07219518426737849646"
     },
     "user_tz": 240
    },
    "id": "BToX6xQFtQ3_",
    "outputId": "ff3a13af-f1fe-44c6-c026-387ca6ad36a5"
   },
   "outputs": [],
   "source": [
    "import seaborn as sns\n",
    "planets = sns.load_dataset('planets')\n",
    "planets.shape"
   ]
  },
  {
   "cell_type": "code",
   "execution_count": null,
   "metadata": {
    "colab": {
     "base_uri": "https://localhost:8080/",
     "height": 143
    },
    "executionInfo": {
     "elapsed": 1832,
     "status": "ok",
     "timestamp": 1616182509639,
     "user": {
      "displayName": "Murat Guner",
      "photoUrl": "",
      "userId": "07219518426737849646"
     },
     "user_tz": 240
    },
    "id": "2QNwsARttrCO",
    "outputId": "9459d295-0524-4695-c86f-9bf0b6c035fb"
   },
   "outputs": [],
   "source": [
    "planets.head(3)"
   ]
  },
  {
   "cell_type": "code",
   "execution_count": null,
   "metadata": {
    "colab": {
     "base_uri": "https://localhost:8080/"
    },
    "executionInfo": {
     "elapsed": 1828,
     "status": "ok",
     "timestamp": 1616182509639,
     "user": {
      "displayName": "Murat Guner",
      "photoUrl": "",
      "userId": "07219518426737849646"
     },
     "user_tz": 240
    },
    "id": "a2rDdKxJttb5",
    "outputId": "327f3d2b-b9e4-48ce-daf7-3ea4f1907e44"
   },
   "outputs": [],
   "source": [
    "## basic aggregation\n",
    "\n",
    "planets.mass.mean()\n",
    "# planets['mass'].mean()"
   ]
  },
  {
   "cell_type": "code",
   "execution_count": null,
   "metadata": {
    "colab": {
     "base_uri": "https://localhost:8080/"
    },
    "executionInfo": {
     "elapsed": 1825,
     "status": "ok",
     "timestamp": 1616182509640,
     "user": {
      "displayName": "Murat Guner",
      "photoUrl": "",
      "userId": "07219518426737849646"
     },
     "user_tz": 240
    },
    "id": "IlzZaKbMQjIO",
    "outputId": "67025b05-bd34-4580-9ff0-9002e75c980d"
   },
   "outputs": [],
   "source": [
    "planets['year'].min()"
   ]
  },
  {
   "cell_type": "code",
   "execution_count": null,
   "metadata": {
    "id": "m83oX8QqQiF9"
   },
   "outputs": [],
   "source": []
  },
  {
   "cell_type": "code",
   "execution_count": null,
   "metadata": {
    "colab": {
     "base_uri": "https://localhost:8080/"
    },
    "executionInfo": {
     "elapsed": 1820,
     "status": "ok",
     "timestamp": 1616182509641,
     "user": {
      "displayName": "Murat Guner",
      "photoUrl": "",
      "userId": "07219518426737849646"
     },
     "user_tz": 240
    },
    "id": "gdXhQK6jt1jw",
    "outputId": "2af59cc8-25d9-46fb-aec1-3fd69853a7e9"
   },
   "outputs": [],
   "source": [
    "planets.distance.std()"
   ]
  },
  {
   "cell_type": "code",
   "execution_count": null,
   "metadata": {
    "colab": {
     "base_uri": "https://localhost:8080/",
     "height": 300
    },
    "executionInfo": {
     "elapsed": 1816,
     "status": "ok",
     "timestamp": 1616182509641,
     "user": {
      "displayName": "Murat Guner",
      "photoUrl": "",
      "userId": "07219518426737849646"
     },
     "user_tz": 240
    },
    "id": "EFFU61GJtWQ5",
    "outputId": "94af80ac-b5c9-4224-ec60-820f3e594ef4"
   },
   "outputs": [],
   "source": [
    "planets.describe()"
   ]
  },
  {
   "cell_type": "markdown",
   "metadata": {
    "id": "VJ6bqP9Htk0T"
   },
   "source": [
    "Groupby"
   ]
  },
  {
   "cell_type": "markdown",
   "metadata": {
    "id": "tfPHJH5buaJp"
   },
   "source": [
    "<img src = \"https://jakevdp.github.io/PythonDataScienceHandbook/figures/03.08-split-apply-combine.png\"  width = 550 />"
   ]
  },
  {
   "cell_type": "code",
   "execution_count": null,
   "metadata": {
    "colab": {
     "base_uri": "https://localhost:8080/",
     "height": 237
    },
    "executionInfo": {
     "elapsed": 2303,
     "status": "error",
     "timestamp": 1616182510133,
     "user": {
      "displayName": "Murat Guner",
      "photoUrl": "",
      "userId": "07219518426737849646"
     },
     "user_tz": 240
    },
    "id": "5i466xZPurjQ",
    "outputId": "36d6eeb1-1049-430d-bc7e-f34976d450bb"
   },
   "outputs": [],
   "source": [
    "df = pd.DataFrame({'key': ['A', 'B', 'C', 'A', 'B', 'C'],\n",
    "                   'data': range(6)}, columns=['key', 'data'])\n",
    "df\n",
    "\n"
   ]
  },
  {
   "cell_type": "code",
   "execution_count": null,
   "metadata": {
    "id": "E7KrolE6uuQu"
   },
   "outputs": [],
   "source": [
    "grouped_df = df.groupby('key')\n",
    "grouped_df"
   ]
  },
  {
   "cell_type": "code",
   "execution_count": null,
   "metadata": {},
   "outputs": [],
   "source": [
    "for key, item in grouped_df:\n",
    "    print(item, \"\\n\\n\")"
   ]
  },
  {
   "cell_type": "code",
   "execution_count": null,
   "metadata": {
    "id": "WzMgJq8Juwtl"
   },
   "outputs": [],
   "source": [
    "grouped_df.count()"
   ]
  },
  {
   "cell_type": "code",
   "execution_count": null,
   "metadata": {},
   "outputs": [],
   "source": [
    "grouped_df['data'].mean()"
   ]
  },
  {
   "cell_type": "code",
   "execution_count": null,
   "metadata": {},
   "outputs": [],
   "source": [
    "planets.head()"
   ]
  },
  {
   "cell_type": "code",
   "execution_count": null,
   "metadata": {
    "id": "JeLiiqs_u9FD"
   },
   "outputs": [],
   "source": [
    "planets_grouped_method = planets.groupby('method')\n",
    "planets_grouped_method['mass'].count()"
   ]
  },
  {
   "cell_type": "markdown",
   "metadata": {
    "id": "rLdvCZ-7vhY_"
   },
   "source": [
    "Iterations over groups"
   ]
  },
  {
   "cell_type": "code",
   "execution_count": null,
   "metadata": {
    "id": "2-T5Af_hYufu"
   },
   "outputs": [],
   "source": [
    "planets.method.value_counts()"
   ]
  },
  {
   "cell_type": "code",
   "execution_count": null,
   "metadata": {
    "id": "TGB_iJOmverF"
   },
   "outputs": [],
   "source": [
    "for (method, group) in planets.groupby('method'):\n",
    "    print(method, '\\n', group, '\\n\\n')"
   ]
  },
  {
   "cell_type": "code",
   "execution_count": null,
   "metadata": {
    "id": "JWxX1bCnUxCk"
   },
   "outputs": [],
   "source": [
    "groups = planets.groupby('method')"
   ]
  },
  {
   "cell_type": "code",
   "execution_count": null,
   "metadata": {
    "id": "EaW-pNsDYQ3c"
   },
   "outputs": [],
   "source": [
    "groups.groups"
   ]
  },
  {
   "cell_type": "code",
   "execution_count": null,
   "metadata": {
    "id": "J6VQYLWhUz4x"
   },
   "outputs": [],
   "source": [
    "groups.get_group('Imaging').shape"
   ]
  },
  {
   "cell_type": "code",
   "execution_count": null,
   "metadata": {},
   "outputs": [],
   "source": [
    "groups.get_group('Imaging').head()"
   ]
  },
  {
   "cell_type": "markdown",
   "metadata": {
    "id": "N4znCDMKvr2V"
   },
   "source": [
    "## Apply Method"
   ]
  },
  {
   "cell_type": "code",
   "execution_count": null,
   "metadata": {
    "id": "1VnFQTu4wV0C"
   },
   "outputs": [],
   "source": [
    "import numpy as np\n",
    "\n",
    "rng = np.random.RandomState(0)\n",
    "df = pd.DataFrame({'key': ['A', 'B', 'C', 'A', 'B', 'C'],\n",
    "                   'data1': range(6),\n",
    "                   'data2': rng.randint(0, 10, 6)},\n",
    "                   columns = ['key', 'data1', 'data2'])\n",
    "df\n",
    "\n"
   ]
  },
  {
   "cell_type": "code",
   "execution_count": null,
   "metadata": {},
   "outputs": [],
   "source": [
    "# Let's apply to the entire df\n",
    "def apply_logic(x):\n",
    "    print(x)\n",
    "    print('-')\n",
    "\n",
    "df.apply(apply_logic)"
   ]
  },
  {
   "cell_type": "code",
   "execution_count": null,
   "metadata": {},
   "outputs": [],
   "source": [
    "# axis 0 is default (columns)\n",
    "# axis 1 is rows\n",
    "df.apply(apply_logic, axis=1)\n"
   ]
  },
  {
   "cell_type": "code",
   "execution_count": null,
   "metadata": {},
   "outputs": [],
   "source": [
    "df"
   ]
  },
  {
   "cell_type": "code",
   "execution_count": null,
   "metadata": {},
   "outputs": [],
   "source": [
    "# if key is A multiply data1 * data2, otherwise data1 + data2\n",
    "# doesn't work: let's fix\n",
    "\n",
    "def apply_logic(x):\n",
    "    if(x['key'] == 'A' ):\n",
    "        x['result'] = x['data1'] * x['data2']\n",
    "    else\n",
    "        x['result'] = x['data1'] + x['data2']\n",
    "        \n",
    "df.apply(apply_logic)"
   ]
  },
  {
   "cell_type": "code",
   "execution_count": null,
   "metadata": {},
   "outputs": [],
   "source": [
    "# fixed\n",
    "\n",
    "\n"
   ]
  },
  {
   "cell_type": "code",
   "execution_count": null,
   "metadata": {
    "id": "ss8gJEhbapta"
   },
   "outputs": [],
   "source": [
    "df.data1/df.data2.sum()"
   ]
  },
  {
   "cell_type": "code",
   "execution_count": null,
   "metadata": {
    "id": "EJICZM0xwxD5"
   },
   "outputs": [],
   "source": [
    "df.groupby('key')['data2'].sum()"
   ]
  },
  {
   "cell_type": "code",
   "execution_count": null,
   "metadata": {
    "id": "dQ6XjI4cwcLn"
   },
   "outputs": [],
   "source": [
    "def norm_by_data2(x):\n",
    "    # x is a DataFrame of group values\n",
    "    print(x)\n",
    "    x['data1'] /= x['data2'].sum()\n",
    "    return x\n",
    "\n",
    "display('df', \"df.groupby('key').apply(norm_by_data2)\")"
   ]
  },
  {
   "cell_type": "code",
   "execution_count": null,
   "metadata": {
    "id": "Mgf1FCbncJqX"
   },
   "outputs": [],
   "source": [
    "# for key B\n",
    "4/7"
   ]
  },
  {
   "cell_type": "code",
   "execution_count": null,
   "metadata": {
    "id": "vhiYINk5Ve4s"
   },
   "outputs": [],
   "source": [
    "df['data1']/df['data2'].sum()"
   ]
  },
  {
   "cell_type": "code",
   "execution_count": null,
   "metadata": {
    "id": "0Y7KfefLWCy_"
   },
   "outputs": [],
   "source": [
    "df"
   ]
  },
  {
   "cell_type": "code",
   "execution_count": null,
   "metadata": {
    "id": "aKSJIOpbzuGk"
   },
   "outputs": [],
   "source": [
    "## we can also use apply function to dataframe directly\n",
    "\n",
    "df.data2.apply(lambda x: \"small_number\" if x< 4 else \"big_number\")"
   ]
  },
  {
   "cell_type": "code",
   "execution_count": null,
   "metadata": {},
   "outputs": [],
   "source": [
    "# what is lambda? \n",
    "\n",
    "is_small = lambda x: \"small_number\" if x < 4 else \"big_number\"\n",
    "\n",
    "print( is_small(10) )\n",
    "print( is_small(0) )"
   ]
  },
  {
   "cell_type": "markdown",
   "metadata": {},
   "source": [
    "## List Comprehensions"
   ]
  },
  {
   "cell_type": "markdown",
   "metadata": {},
   "source": [
    "\n",
    "`[ expression for item in list]`\n",
    "\n",
    "which is equivalent to\n",
    "<pre>for item in list:\n",
    "    expression</pre>\n",
    "\n",
    "\n",
    "<a href=\"https://www.pythonforbeginners.com/basics/list-comprehensions-in-python\">source</a>\n",
    "\n",
    "https://python-3-patterns-idioms-test.readthedocs.io/en/latest/Comprehensions.html"
   ]
  },
  {
   "cell_type": "code",
   "execution_count": null,
   "metadata": {},
   "outputs": [],
   "source": [
    "numbers = [1, 2, 3, 4, 5]"
   ]
  },
  {
   "cell_type": "code",
   "execution_count": null,
   "metadata": {},
   "outputs": [],
   "source": [
    "squares = []\n",
    "for n in numbers:\n",
    "    squares.append(n**2)"
   ]
  },
  {
   "cell_type": "code",
   "execution_count": null,
   "metadata": {},
   "outputs": [],
   "source": [
    "squares"
   ]
  },
  {
   "cell_type": "markdown",
   "metadata": {},
   "source": [
    "alternatively, we can use a list comprehension"
   ]
  },
  {
   "cell_type": "code",
   "execution_count": null,
   "metadata": {},
   "outputs": [],
   "source": [
    "squares = [n**2 for n in numbers]\n",
    "squares"
   ]
  },
  {
   "cell_type": "markdown",
   "metadata": {},
   "source": [
    "### conditional list comprehension (if)\n",
    "`[ expression for item in list if conditional ]`\n",
    "\n",
    "which is equivalent to\n",
    "<pre>for item in list:\n",
    "    if conditional:\n",
    "        expression</pre>"
   ]
  },
  {
   "cell_type": "code",
   "execution_count": null,
   "metadata": {},
   "outputs": [],
   "source": [
    "string = \"Hello 12345 World\"\n",
    "numbers = [x for x in string if x.isdigit()]\n",
    "print(numbers)"
   ]
  },
  {
   "cell_type": "markdown",
   "metadata": {},
   "source": [
    "conditional statements"
   ]
  },
  {
   "cell_type": "code",
   "execution_count": null,
   "metadata": {
    "scrolled": true
   },
   "outputs": [],
   "source": [
    "[2*x for x in range(10) if x%2==0]"
   ]
  },
  {
   "cell_type": "markdown",
   "metadata": {},
   "source": [
    "### conditional list comprehension (if ... else)\n",
    "\n",
    "`[ expression if conditional else else_expression for item in list ]`\n",
    "\n",
    "which is equivalent to\n",
    "<pre>for item in list:\n",
    "    if conditional:\n",
    "        expression\n",
    "    else:\n",
    "        else_expression\n",
    " </pre>"
   ]
  },
  {
   "cell_type": "code",
   "execution_count": null,
   "metadata": {},
   "outputs": [],
   "source": [
    "['even' if x % 2 == 0 else 'odd' for x in range(10)]"
   ]
  },
  {
   "cell_type": "code",
   "execution_count": null,
   "metadata": {},
   "outputs": [],
   "source": [
    "df['data3'] = [ x * 2 for x in df['data2']]\n",
    "df"
   ]
  },
  {
   "cell_type": "code",
   "execution_count": null,
   "metadata": {},
   "outputs": [],
   "source": [
    "# how about replicating what we did earlier with apply\n",
    "\n",
    "df['result'] = [ a * b if key == 'A' else a + b for key, a, b in zip(df['key'], df['data1'], df['data2']) ]\n",
    "df"
   ]
  },
  {
   "cell_type": "markdown",
   "metadata": {},
   "source": [
    "# Homework\n",
    "\n",
    "1. Hw1\n",
    "2. Hw2\n",
    "1. Make sure that your solutions are in `Week04` folder in your repo"
   ]
  },
  {
   "cell_type": "markdown",
   "metadata": {
    "id": "rNZZ5JMJR5Su"
   },
   "source": [
    "# Resources\n",
    "\n",
    "[Stackoverflow Data](https://insights.stackoverflow.com/survey)\n",
    "\n",
    "[Pandas: Concat, Merge, Join](https://pandas.pydata.org/pandas-docs/stable/user_guide/merging.html)\n",
    "\n",
    "[Pandas Apply Function](https://pandas.pydata.org/pandas-docs/stable/reference/api/pandas.DataFrame.apply.html)\n",
    "\n",
    "[Kaggle: More on encodings](https://www.kaggle.com/learn/data-cleaning)\n",
    "\n",
    "[Apply, Map and ApplyMap](https://towardsdatascience.com/introduction-to-pandas-apply-applymap-and-map-5d3e044e93ff)"
   ]
  },
  {
   "cell_type": "code",
   "execution_count": null,
   "metadata": {},
   "outputs": [],
   "source": []
  }
 ],
 "metadata": {
  "colab": {
   "name": "Instructor_Copy_Pandas-II.ipynb",
   "provenance": [
    {
     "file_id": "1t1mvSovXD7ZnoQIuF9bOXQ2gc0PtvUkg",
     "timestamp": 1628780316353
    }
   ],
   "toc_visible": true
  },
  "kernelspec": {
   "display_name": "Python 3",
   "language": "python",
   "name": "python3"
  },
  "language_info": {
   "codemirror_mode": {
    "name": "ipython",
    "version": 3
   },
   "file_extension": ".py",
   "mimetype": "text/x-python",
   "name": "python",
   "nbconvert_exporter": "python",
   "pygments_lexer": "ipython3",
   "version": "3.8.8"
  },
  "toc": {
   "base_numbering": 1,
   "nav_menu": {},
   "number_sections": false,
   "sideBar": true,
   "skip_h1_title": false,
   "title_cell": "Table of Contents",
   "title_sidebar": "Contents",
   "toc_cell": false,
   "toc_position": {},
   "toc_section_display": true,
   "toc_window_display": true
  }
 },
 "nbformat": 4,
 "nbformat_minor": 1
}
