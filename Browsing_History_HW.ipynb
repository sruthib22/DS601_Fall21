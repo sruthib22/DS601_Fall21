{
  "nbformat": 4,
  "nbformat_minor": 0,
  "metadata": {
    "colab": {
      "name": "Browsing_History_HW.ipynb",
      "provenance": [],
      "collapsed_sections": [],
      "authorship_tag": "ABX9TyN2aDVZUD1HQeX4CJi3X885",
      "include_colab_link": true
    },
    "kernelspec": {
      "name": "python3",
      "display_name": "Python 3"
    },
    "language_info": {
      "name": "python"
    }
  },
  "cells": [
    {
      "cell_type": "markdown",
      "metadata": {
        "id": "view-in-github",
        "colab_type": "text"
      },
      "source": [
        "<a href=\"https://colab.research.google.com/github/sruthib22/DS601_Fall21/blob/main/Browsing_History_HW.ipynb\" target=\"_parent\"><img src=\"https://colab.research.google.com/assets/colab-badge.svg\" alt=\"Open In Colab\"/></a>"
      ]
    },
    {
      "cell_type": "markdown",
      "metadata": {
        "id": "NVWzr3Dk9KCE"
      },
      "source": [
        "## Based on data, what can we tell about this person?\n",
        "   1. Is this a work computer/personal computer?\n",
        "   2. Is he employed?\n",
        "   3. What is his interests?\n",
        "   4. Anything interesting?\n",
        "    - answer here\n",
        "\n",
        "   5. What do you think about this assignment? ( 3 sentences at most! )\n",
        "    - answer here"
      ]
    },
    {
      "cell_type": "markdown",
      "metadata": {
        "id": "s7GtvZRW9rZG"
      },
      "source": [
        "#### 1. After analysing the browser history it is evident that this is a personal computer \n"
      ]
    },
    {
      "cell_type": "markdown",
      "metadata": {
        "id": "zO5MZ6g8Bc75"
      },
      "source": [
        "#### 2. The user may be employed or un-employed because the web-page which was opened the maximum number of times was a personal school website, so the user may be a professor or a student \n",
        "(but becasue I know that this is my computer i'd say the user is a student)"
      ]
    },
    {
      "cell_type": "markdown",
      "metadata": {
        "id": "i1DNB2m_BhkB"
      },
      "source": [
        "\n",
        "#### 3. The user has googled a lot and used a few research websites as well, so the user must be interested in research as the social media search is between 0 to 10% , guess the user is leading a busy life without netflix, facebook and instagram"
      ]
    },
    {
      "cell_type": "markdown",
      "metadata": {
        "id": "3sVdNU1YBl8w"
      },
      "source": [
        "\n",
        "#### 4. the user has only been active on one social media platform which is whatsapp, which is pretty surprising as well as shocking."
      ]
    },
    {
      "cell_type": "markdown",
      "metadata": {
        "id": "5NC5a3DrBqTx"
      },
      "source": [
        "#### 5. The assignment is really interesting as we get to know where and how we spend most of our time\n",
        "            - Time is free, but it's priceless. You can't own it, but you can use it to be a better version of yourself"
      ]
    }
  ]
}