{
  "nbformat": 4,
  "nbformat_minor": 0,
  "metadata": {
    "colab": {
      "name": "fair_and_biased_die_simulations.ipynb",
      "provenance": [],
      "collapsed_sections": [],
      "include_colab_link": true
    },
    "kernelspec": {
      "name": "python3",
      "display_name": "Python 3"
    },
    "language_info": {
      "name": "python"
    }
  },
  "cells": [
    {
      "cell_type": "markdown",
      "metadata": {
        "id": "view-in-github",
        "colab_type": "text"
      },
      "source": [
        "<a href=\"https://colab.research.google.com/github/sruthib22/DS601_Fall21/blob/main/fair_and_biased_die_simulations.ipynb\" target=\"_parent\"><img src=\"https://colab.research.google.com/assets/colab-badge.svg\" alt=\"Open In Colab\"/></a>"
      ]
    },
    {
      "cell_type": "code",
      "metadata": {
        "id": "Z-70Q_G6GsYk"
      },
      "source": [
        "import random\n",
        "import matplotlib.pyplot as plt\n",
        "import statistics\n",
        "import numpy as np"
      ],
      "execution_count": null,
      "outputs": []
    },
    {
      "cell_type": "code",
      "metadata": {
        "id": "jBQFo2KgHRph"
      },
      "source": [
        "def die_simulations(count):\n",
        "  total_count = count     # the number of trials to be made \n",
        "\n",
        "  #fair die simulations\n",
        "  simulations_fair = []\n",
        "  fair_count = []\n",
        "  for i in range(total_count):\n",
        "    randomlist = random.randint(1,6)\n",
        "    simulations_fair.append(randomlist)\n",
        "  # storing the count of each outcome\n",
        "  for i in range(6):\n",
        "    fair_count.append(simulations_fair.count(i+1))\n",
        "\n",
        "  # biased_die simulations\n",
        "  simulations_biased = []\n",
        "  biased_count = []\n",
        "  values = [1,2,3,4,5,6]\n",
        "  for i in range(total_count):\n",
        "    randomly_biased = random.choices(values, weights=[0.15, 0.15, 0.15, 0.15, 0.15, 0.25], k=1)\n",
        "    simulations_biased.extend(randomly_biased)\n",
        "  #storing the count for each value\n",
        "  for i in range(6):\n",
        "    biased_count.append(simulations_biased.count(i+1))\n",
        "\n",
        "  # combining the two simulations\n",
        "  final_simulations = [fair_count, biased_count]\n",
        "  count = np.arange(1,7)\n",
        "  width_plot = 0.27\n",
        "  a = plt.bar(count - 0.12, final_simulations[0], color='g', width = width_plot)\n",
        "  a = plt.bar(count + 0.15 , final_simulations[1], color= 'r', width = width_plot)\n",
        "  a = plt.xlabel('die simulations')\n",
        "  a = plt.ylabel('total count for biased and fair die')\n",
        "  a = plt.title('fair die and biased die outcomes')\n",
        "  plt.show(a)\n",
        "  return"
      ],
      "execution_count": null,
      "outputs": []
    },
    {
      "cell_type": "code",
      "metadata": {
        "colab": {
          "base_uri": "https://localhost:8080/",
          "height": 295
        },
        "id": "LEt_HWTzJUvj",
        "outputId": "74c3e15d-f6b2-43f4-ee02-b79b16aecdeb"
      },
      "source": [
        "die_simulations(500)"
      ],
      "execution_count": null,
      "outputs": [
        {
          "output_type": "display_data",
          "data": {
            "image/png": "[encoded data removed]",
            "text/plain": [
              "<Figure size 432x288 with 1 Axes>"
            ]
          },
          "metadata": {
            "needs_background": "light"
          }
        }
      ]
    },
    {
      "cell_type": "code",
      "metadata": {
        "id": "EQ4lUmneJv4H"
      },
      "source": [
        ""
      ],
      "execution_count": null,
      "outputs": []
    }
  ]
}