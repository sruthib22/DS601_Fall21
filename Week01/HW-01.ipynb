{
 "cells": [
  {
   "cell_type": "markdown",
   "source": [
    "# Rules\n",
    "\n",
    "- We will grade only the answer cells, so make sure that you type your answer inside of the answer cell. \n",
    "\n",
    "- Make sure that your code is working when you restart the kernel. Notebooks are great tools for exploration but we should be very careful as we are writing codes. For more, please check: [Why notebooks suck](https://towardsdatascience.com/5-reasons-why-jupyter-notebooks-suck-4dc201e27086)\n",
    "\n",
    "- Make sure that your results are in the correct format. If we ask you to return a list, your answer should be in a list format. If the question asks you to return a scalar (float, int, etc.) then make sure that your answer is in the correct format.\n",
    "\n",
    "## Homework\n",
    "\n",
    "1. Correct the formatting of markdown cells\n",
    "    * Use appropriate headers\n",
    "1. Finish the coding sections."
   ],
   "metadata": {
    "id": "hl3pVnDDs6Se"
   }
  },
  {
   "cell_type": "markdown",
   "source": [
    "Question-1\n",
    "\n",
    "Write a Python function to return a **list** of all the numbers from 1 to n which are divisible by 5. `n` will be given as an argument to your function.\n"
   ],
   "metadata": {
    "id": "Tur9zoV6qB4I"
   }
  },
  {
   "cell_type": "code",
   "execution_count": 1,
   "source": [
    "# Your Answer Cell\r\n",
    "# you can edit the function below. \r\n",
    "# Don't change function name and parameter names.\r\n",
    "# you can define new variables inside of the function.\r\n",
    "\r\n",
    "def divisible_five(given_number):\r\n",
    "    my_list = []\r\n",
    "    for i in range(given_number):\r\n",
    "        if i % 5 == 0:\r\n",
    "            my_list.append(i)\r\n",
    "    return my_list\r\n",
    "\r\n",
    "print(divisible_five(121))"
   ],
   "outputs": [
    {
     "output_type": "stream",
     "name": "stdout",
     "text": [
      "[0, 5, 10, 15, 20, 25, 30, 35, 40, 45, 50, 55, 60, 65, 70, 75, 80, 85, 90, 95, 100, 105, 110, 115, 120]\n"
     ]
    }
   ],
   "metadata": {
    "id": "bBH79NeVs1m1"
   }
  },
  {
   "cell_type": "markdown",
   "source": [
    "Question-2\n",
    "\n",
    "Write a function that returns the sum of all the multiples of 3 or 7 below a given number.\n"
   ],
   "metadata": {
    "id": "9DpQ6X0io0If"
   }
  },
  {
   "cell_type": "code",
   "execution_count": null,
   "source": [
    "# Your Answer Cell\r\n",
    "# you can edit the function below. \r\n",
    "# Don't change function name and parameter names.\r\n",
    "# you can define new variables inside of the function.\r\n",
    "\r\n",
    "def my_function(given_number):\r\n",
    "\r\n",
    "    return\r\n",
    "\r\n",
    "\r\n",
    "## your answer above\r\n",
    "\r\n",
    "my_function(10000)"
   ],
   "outputs": [],
   "metadata": {
    "id": "rmYpunGwp-bq"
   }
  },
  {
   "cell_type": "markdown",
   "source": [
    "Question-3 (Shell & Magic Commands)\n"
   ],
   "metadata": {
    "id": "inGr4AOovJhj"
   }
  },
  {
   "cell_type": "markdown",
   "source": [
    "Question-3-a\n",
    "\n",
    "Below print current working directory."
   ],
   "metadata": {
    "id": "54izIMcAwgud"
   }
  },
  {
   "cell_type": "code",
   "execution_count": 28,
   "source": [
    "## Answer Cell \r\n",
    "\r\n",
    "\r\n"
   ],
   "outputs": [],
   "metadata": {
    "id": "0O27azQfvZjv"
   }
  },
  {
   "cell_type": "markdown",
   "source": [
    "Question-3-b\n",
    "\n",
    "Below list all the files and folders in the current working directory."
   ],
   "metadata": {
    "id": "lDzXCiGnvbMO"
   }
  },
  {
   "cell_type": "code",
   "execution_count": 29,
   "source": [
    "## Answer Cell\r\n"
   ],
   "outputs": [],
   "metadata": {
    "id": "SHnZDzFZwUeB"
   }
  },
  {
   "cell_type": "markdown",
   "source": [
    "Question 3-c\n",
    "\n",
    "Create a new directory within the current working directory 'data'"
   ],
   "metadata": {
    "id": "PT3fPRc3wWh1"
   }
  },
  {
   "cell_type": "code",
   "execution_count": 30,
   "source": [
    "## Answer Cell\r\n"
   ],
   "outputs": [],
   "metadata": {
    "id": "cvhzEyZNwXdn"
   }
  },
  {
   "cell_type": "markdown",
   "source": [
    "Question-3-d\n",
    "\n",
    "Change the working directory to 'data'\n",
    "print current working directory again to make sure that your answer is correct."
   ],
   "metadata": {
    "id": "bKn3RzJgwYnc"
   }
  },
  {
   "cell_type": "code",
   "execution_count": 34,
   "source": [
    "## Answer Cell\r\n",
    "\r\n"
   ],
   "outputs": [],
   "metadata": {
    "id": "TnhNhVO3wZsl"
   }
  },
  {
   "cell_type": "markdown",
   "source": [
    "Question-3-e\n",
    "\n",
    "Create a new file under 'content/my_directory' and name it 'my_script.py'"
   ],
   "metadata": {
    "id": "2DYjo1LqyjcW"
   }
  },
  {
   "cell_type": "code",
   "execution_count": null,
   "source": [
    "## Answer Cell\r\n"
   ],
   "outputs": [],
   "metadata": {
    "id": "khNRtjC6yzCf"
   }
  },
  {
   "cell_type": "markdown",
   "source": [
    "Question-3-f\n",
    "\n",
    "Create 'my_script.py' so that it prints 'Your First Name-Your Last Name' and run this scripy in the cell below."
   ],
   "metadata": {
    "id": "OZPKFtqX1Wev"
   }
  },
  {
   "cell_type": "code",
   "execution_count": 36,
   "source": [
    "## Answer Cell\r\n",
    "\r\n"
   ],
   "outputs": [],
   "metadata": {
    "id": "n7i7G_YE1qi0"
   }
  },
  {
   "cell_type": "markdown",
   "source": [
    "Question-4\n",
    "\n",
    "Commit & push to your repo"
   ],
   "metadata": {}
  },
  {
   "cell_type": "code",
   "execution_count": null,
   "source": [
    "## Answer Cell"
   ],
   "outputs": [],
   "metadata": {}
  }
 ],
 "metadata": {
  "colab": {
   "collapsed_sections": [],
   "name": "HW-1.ipynb",
   "provenance": []
  },
  "kernelspec": {
   "name": "python3",
   "display_name": "Python 3.8.8 64-bit ('base': conda)"
  },
  "language_info": {
   "codemirror_mode": {
    "name": "ipython",
    "version": 3
   },
   "file_extension": ".py",
   "mimetype": "text/x-python",
   "name": "python",
   "nbconvert_exporter": "python",
   "pygments_lexer": "ipython3",
   "version": "3.8.8"
  },
  "toc": {
   "base_numbering": 1,
   "nav_menu": {},
   "number_sections": false,
   "sideBar": true,
   "skip_h1_title": false,
   "title_cell": "Table of Contents",
   "title_sidebar": "Contents",
   "toc_cell": false,
   "toc_position": {},
   "toc_section_display": true,
   "toc_window_display": true
  },
  "interpreter": {
   "hash": "54804a78ae37060a395b2c72ec5bba472564ce4f56d79cf73c889fcc5ecc2294"
  }
 },
 "nbformat": 4,
 "nbformat_minor": 1
}